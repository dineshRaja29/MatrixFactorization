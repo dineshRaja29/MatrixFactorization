{
  "cells": [
    {
      "cell_type": "markdown",
      "metadata": {
        "id": "view-in-github",
        "colab_type": "text"
      },
      "source": [
        "<a href=\"https://colab.research.google.com/github/dineshRaja29/MatrixFactorization/blob/main/SVD.ipynb\" target=\"_parent\"><img src=\"https://colab.research.google.com/assets/colab-badge.svg\" alt=\"Open In Colab\"/></a>"
      ]
    },
    {
      "cell_type": "markdown",
      "source": [
        "##<font color='green'><b>INTRODUCTION</b></font>"
      ],
      "metadata": {
        "id": "QSoJa5yvPxEA"
      }
    },
    {
      "cell_type": "markdown",
      "source": [
        "We are building the word similarity using Matrix Factorization\n",
        "<br>\n",
        "\n",
        "<strong>Procedure:</strong>\n",
        "        <ul>\n",
        "    <li>Take top 2000 or 3000 features from tf-idf vectorizers using idf_ score.</li>\n",
        "    <li>Calculate the co-occurrence matrix with the selected features (Note: X.X^T\n",
        "doesn’t give the co-occurrence matrix, it returns the covariance matrix, check these\n",
        "        bolgs <a href='https://medium.com/data-science-group-iitr/word-embedding-2d05d270b285'>blog-1,</a> <a href='https://www.analyticsvidhya.com/blog/2017/06/word-embeddings-count-word2veec/'>blog-2 </a>for more information)</li>\n",
        "            <li>Choose the n_components in truncated svd, with maximum explained\n",
        "variance. (plot of\n",
        "cumulative explained variance ratio)</li>\n",
        "            <li>Apply K-Means clustering and choose\n",
        "the best number of clusters based on elbow method.</li>\n",
        "            <li> Print out wordclouds for each cluster. </li>\n",
        "            <li>Write a function that takes a word and returns the most similar words using\n",
        "cosine similarity between the vectors(vector: a row in the matrix after truncatedSVD)</li>\n",
        "        </ul>\n",
        "    </li>\n",
        "    <br>\n",
        "    \n",
        "</ol>"
      ],
      "metadata": {
        "id": "OAWy2ThCQSo9"
      }
    },
    {
      "cell_type": "markdown",
      "source": [
        "##<font color='green'><b>OBJECTIVE</b></font>\n",
        "\n"
      ],
      "metadata": {
        "id": "soGd_MRcYhMC"
      }
    },
    {
      "cell_type": "markdown",
      "source": [
        "Given a corpus, find the most similar word using Distributional Similarity method.\n"
      ],
      "metadata": {
        "id": "tQUOYca6QKBC"
      }
    },
    {
      "cell_type": "markdown",
      "metadata": {
        "id": "8wugXnjtChWj"
      },
      "source": [
        "##<font color='green'><b>DATASET LOADING AND CLEANING</b></font>"
      ]
    },
    {
      "cell_type": "markdown",
      "metadata": {
        "id": "jNC8HEoBChWf"
      },
      "source": [
        "Data Source: https://www.kaggle.com/snap/amazon-fine-food-reviews <br>\n",
        "\n",
        "EDA: https://nycdatascience.com/blog/student-works/amazon-fine-foods-visualization/\n",
        "\n",
        "\n",
        "The Amazon Fine Food Reviews dataset consists of reviews of fine foods from Amazon.<br>\n",
        "\n",
        "Number of reviews: 568,454<br>\n",
        "Number of users: 256,059<br>\n",
        "Number of products: 74,258<br>\n",
        "Timespan: Oct 1999 - Oct 2012<br>\n",
        "Number of Attributes/Columns in data: 10 \n",
        "\n",
        "Attribute Information:\n",
        "\n",
        "1. Id\n",
        "2. ProductId - unique identifier for the product\n",
        "3. UserId - unqiue identifier for the user\n",
        "4. ProfileName\n",
        "5. HelpfulnessNumerator - number of users who found the review helpful\n",
        "6. HelpfulnessDenominator - number of users who indicated whether they found the review helpful or not\n",
        "7. Score - rating between 1 and 5\n",
        "8. Time - timestamp for the review\n",
        "9. Summary - brief summary of the review\n",
        "10. Text - text of the review\n",
        "\n"
      ]
    },
    {
      "cell_type": "markdown",
      "metadata": {
        "id": "YmKFSMRoChWm"
      },
      "source": [
        "The dataset is available in two forms\n",
        "1. .csv file\n",
        "2. SQLite Database\n",
        "\n",
        "In order to load the data, We have used the SQLITE dataset as it is easier to query the data and visualise the data efficiently.\n",
        "<br> \n",
        "\n",
        "Here as we only want to get the global sentiment of the recommendations (positive or negative), we will purposefully ignore all Scores equal to 3. If the score is above 3, then the recommendation wil be set to \"positive\". Otherwise, it will be set to \"negative\"."
      ]
    },
    {
      "cell_type": "code",
      "execution_count": null,
      "metadata": {
        "collapsed": true,
        "id": "Q_rK3P8xChWq"
      },
      "outputs": [],
      "source": [
        "%matplotlib inline\n",
        "import warnings\n",
        "warnings.filterwarnings(\"ignore\")\n",
        "\n",
        "\n",
        "import sqlite3\n",
        "import pandas as pd\n",
        "import numpy as np\n",
        "import nltk\n",
        "import string\n",
        "import matplotlib.pyplot as plt\n",
        "import seaborn as sns\n",
        "from sklearn.feature_extraction.text import TfidfTransformer\n",
        "from sklearn.feature_extraction.text import TfidfVectorizer\n",
        "\n",
        "from sklearn.feature_extraction.text import CountVectorizer\n",
        "from sklearn.metrics import confusion_matrix\n",
        "from sklearn import metrics\n",
        "from sklearn.metrics import roc_curve, auc\n",
        "from nltk.stem.porter import PorterStemmer\n",
        "\n",
        "import re\n",
        "# Tutorial about Python regular expressions: https://pymotw.com/2/re/\n",
        "import string\n",
        "from nltk.corpus import stopwords\n",
        "from nltk.stem import PorterStemmer\n",
        "from nltk.stem.wordnet import WordNetLemmatizer\n",
        "\n",
        "from gensim.models import Word2Vec\n",
        "from gensim.models import KeyedVectors\n",
        "import pickle\n",
        "\n",
        "from tqdm import tqdm\n",
        "import os"
      ]
    },
    {
      "cell_type": "code",
      "execution_count": null,
      "metadata": {
        "colab": {
          "base_uri": "https://localhost:8080/",
          "height": 545
        },
        "id": "qGFlKpmUChWz",
        "outputId": "e3ed6bcf-cf79-4111-aa5c-64d5764e2b67"
      },
      "outputs": [
        {
          "name": "stdout",
          "output_type": "stream",
          "text": [
            "Go to this URL in a browser: https://accounts.google.com/o/oauth2/auth?client_id=947318989803-6bn6qk8qdgf4n4g3pfee6491hc0brc4i.apps.googleusercontent.com&redirect_uri=urn%3Aietf%3Awg%3Aoauth%3A2.0%3Aoob&scope=email%20https%3A%2F%2Fwww.googleapis.com%2Fauth%2Fdocs.test%20https%3A%2F%2Fwww.googleapis.com%2Fauth%2Fdrive%20https%3A%2F%2Fwww.googleapis.com%2Fauth%2Fdrive.photos.readonly%20https%3A%2F%2Fwww.googleapis.com%2Fauth%2Fpeopleapi.readonly&response_type=code\n",
            "\n",
            "Enter your authorization code:\n",
            "··········\n",
            "Mounted at /content/drive\n",
            "Number of data points in our data (100000, 10)\n"
          ]
        },
        {
          "data": {
            "text/html": [
              "<div>\n",
              "<style scoped>\n",
              "    .dataframe tbody tr th:only-of-type {\n",
              "        vertical-align: middle;\n",
              "    }\n",
              "\n",
              "    .dataframe tbody tr th {\n",
              "        vertical-align: top;\n",
              "    }\n",
              "\n",
              "    .dataframe thead th {\n",
              "        text-align: right;\n",
              "    }\n",
              "</style>\n",
              "<table border=\"1\" class=\"dataframe\">\n",
              "  <thead>\n",
              "    <tr style=\"text-align: right;\">\n",
              "      <th></th>\n",
              "      <th>Id</th>\n",
              "      <th>ProductId</th>\n",
              "      <th>UserId</th>\n",
              "      <th>ProfileName</th>\n",
              "      <th>HelpfulnessNumerator</th>\n",
              "      <th>HelpfulnessDenominator</th>\n",
              "      <th>Score</th>\n",
              "      <th>Time</th>\n",
              "      <th>Summary</th>\n",
              "      <th>Text</th>\n",
              "    </tr>\n",
              "  </thead>\n",
              "  <tbody>\n",
              "    <tr>\n",
              "      <th>0</th>\n",
              "      <td>1</td>\n",
              "      <td>B001E4KFG0</td>\n",
              "      <td>A3SGXH7AUHU8GW</td>\n",
              "      <td>delmartian</td>\n",
              "      <td>1</td>\n",
              "      <td>1</td>\n",
              "      <td>1</td>\n",
              "      <td>1303862400</td>\n",
              "      <td>Good Quality Dog Food</td>\n",
              "      <td>I have bought several of the Vitality canned d...</td>\n",
              "    </tr>\n",
              "    <tr>\n",
              "      <th>1</th>\n",
              "      <td>2</td>\n",
              "      <td>B00813GRG4</td>\n",
              "      <td>A1D87F6ZCVE5NK</td>\n",
              "      <td>dll pa</td>\n",
              "      <td>0</td>\n",
              "      <td>0</td>\n",
              "      <td>0</td>\n",
              "      <td>1346976000</td>\n",
              "      <td>Not as Advertised</td>\n",
              "      <td>Product arrived labeled as Jumbo Salted Peanut...</td>\n",
              "    </tr>\n",
              "    <tr>\n",
              "      <th>2</th>\n",
              "      <td>3</td>\n",
              "      <td>B000LQOCH0</td>\n",
              "      <td>ABXLMWJIXXAIN</td>\n",
              "      <td>Natalia Corres \"Natalia Corres\"</td>\n",
              "      <td>1</td>\n",
              "      <td>1</td>\n",
              "      <td>1</td>\n",
              "      <td>1219017600</td>\n",
              "      <td>\"Delight\" says it all</td>\n",
              "      <td>This is a confection that has been around a fe...</td>\n",
              "    </tr>\n",
              "  </tbody>\n",
              "</table>\n",
              "</div>"
            ],
            "text/plain": [
              "   Id  ...                                               Text\n",
              "0   1  ...  I have bought several of the Vitality canned d...\n",
              "1   2  ...  Product arrived labeled as Jumbo Salted Peanut...\n",
              "2   3  ...  This is a confection that has been around a fe...\n",
              "\n",
              "[3 rows x 10 columns]"
            ]
          },
          "execution_count": 2,
          "metadata": {
            "tags": []
          },
          "output_type": "execute_result"
        }
      ],
      "source": [
        "# using SQLite Table to read data.\n",
        "from google.colab import drive\n",
        "drive.mount('/content/drive', force_remount=True)\n",
        "from PIL import Image\n",
        "\n",
        "con = sqlite3.connect('/content/drive/My Drive/AFFR_DATASET/database.sqlite') \n",
        "# filtering only positive and negative reviews i.e. \n",
        "# not taking into consideration those reviews with Score=3\n",
        "# SELECT * FROM Reviews WHERE Score != 3 LIMIT 500000, will give top 500000 data points\n",
        "# you can change the number to any other number based on your computing power\n",
        "\n",
        "filtered_data = pd.read_sql_query(\"\"\" SELECT * FROM Reviews WHERE Score != 3 LIMIT 100000\"\"\", con) \n",
        "# for tsne assignment you can take 5k data points\n",
        "\n",
        "\n",
        "\n",
        "# Give reviews with Score>3 a positive rating(1), and reviews with a score<3 a negative rating(0).\n",
        "def partition(x):\n",
        "    if x < 3:\n",
        "        return 0\n",
        "    return 1\n",
        "\n",
        "#changing reviews with score less than 3 to be positive and vice-versa\n",
        "actualScore = filtered_data['Score']\n",
        "positiveNegative = actualScore.map(partition) \n",
        "filtered_data['Score'] = positiveNegative\n",
        "print(\"Number of data points in our data\", filtered_data.shape)\n",
        "filtered_data.head(3)"
      ]
    },
    {
      "cell_type": "code",
      "execution_count": null,
      "metadata": {
        "collapsed": true,
        "id": "Oy6FbbqIChW9"
      },
      "outputs": [],
      "source": [
        "display = pd.read_sql_query(\"\"\"\n",
        "SELECT UserId, ProductId, ProfileName, Time, Score, Text, COUNT(*)\n",
        "FROM Reviews\n",
        "GROUP BY UserId\n",
        "HAVING COUNT(*)>1\n",
        "\"\"\", con)"
      ]
    },
    {
      "cell_type": "code",
      "execution_count": null,
      "metadata": {
        "colab": {
          "base_uri": "https://localhost:8080/",
          "height": 293
        },
        "id": "VxmpGW-WChXD",
        "outputId": "5cff1027-bd00-4fdd-8c18-47fb2d8346d9",
        "scrolled": true
      },
      "outputs": [
        {
          "name": "stdout",
          "output_type": "stream",
          "text": [
            "(80668, 7)\n"
          ]
        },
        {
          "data": {
            "text/html": [
              "<div>\n",
              "<style scoped>\n",
              "    .dataframe tbody tr th:only-of-type {\n",
              "        vertical-align: middle;\n",
              "    }\n",
              "\n",
              "    .dataframe tbody tr th {\n",
              "        vertical-align: top;\n",
              "    }\n",
              "\n",
              "    .dataframe thead th {\n",
              "        text-align: right;\n",
              "    }\n",
              "</style>\n",
              "<table border=\"1\" class=\"dataframe\">\n",
              "  <thead>\n",
              "    <tr style=\"text-align: right;\">\n",
              "      <th></th>\n",
              "      <th>UserId</th>\n",
              "      <th>ProductId</th>\n",
              "      <th>ProfileName</th>\n",
              "      <th>Time</th>\n",
              "      <th>Score</th>\n",
              "      <th>Text</th>\n",
              "      <th>COUNT(*)</th>\n",
              "    </tr>\n",
              "  </thead>\n",
              "  <tbody>\n",
              "    <tr>\n",
              "      <th>0</th>\n",
              "      <td>#oc-R115TNMSPFT9I7</td>\n",
              "      <td>B007Y59HVM</td>\n",
              "      <td>Breyton</td>\n",
              "      <td>1331510400</td>\n",
              "      <td>2</td>\n",
              "      <td>Overall its just OK when considering the price...</td>\n",
              "      <td>2</td>\n",
              "    </tr>\n",
              "    <tr>\n",
              "      <th>1</th>\n",
              "      <td>#oc-R11D9D7SHXIJB9</td>\n",
              "      <td>B005HG9ET0</td>\n",
              "      <td>Louis E. Emory \"hoppy\"</td>\n",
              "      <td>1342396800</td>\n",
              "      <td>5</td>\n",
              "      <td>My wife has recurring extreme muscle spasms, u...</td>\n",
              "      <td>3</td>\n",
              "    </tr>\n",
              "    <tr>\n",
              "      <th>2</th>\n",
              "      <td>#oc-R11DNU2NBKQ23Z</td>\n",
              "      <td>B007Y59HVM</td>\n",
              "      <td>Kim Cieszykowski</td>\n",
              "      <td>1348531200</td>\n",
              "      <td>1</td>\n",
              "      <td>This coffee is horrible and unfortunately not ...</td>\n",
              "      <td>2</td>\n",
              "    </tr>\n",
              "    <tr>\n",
              "      <th>3</th>\n",
              "      <td>#oc-R11O5J5ZVQE25C</td>\n",
              "      <td>B005HG9ET0</td>\n",
              "      <td>Penguin Chick</td>\n",
              "      <td>1346889600</td>\n",
              "      <td>5</td>\n",
              "      <td>This will be the bottle that you grab from the...</td>\n",
              "      <td>3</td>\n",
              "    </tr>\n",
              "    <tr>\n",
              "      <th>4</th>\n",
              "      <td>#oc-R12KPBODL2B5ZD</td>\n",
              "      <td>B007OSBE1U</td>\n",
              "      <td>Christopher P. Presta</td>\n",
              "      <td>1348617600</td>\n",
              "      <td>1</td>\n",
              "      <td>I didnt like this coffee. Instead of telling y...</td>\n",
              "      <td>2</td>\n",
              "    </tr>\n",
              "  </tbody>\n",
              "</table>\n",
              "</div>"
            ],
            "text/plain": [
              "               UserId  ... COUNT(*)\n",
              "0  #oc-R115TNMSPFT9I7  ...        2\n",
              "1  #oc-R11D9D7SHXIJB9  ...        3\n",
              "2  #oc-R11DNU2NBKQ23Z  ...        2\n",
              "3  #oc-R11O5J5ZVQE25C  ...        3\n",
              "4  #oc-R12KPBODL2B5ZD  ...        2\n",
              "\n",
              "[5 rows x 7 columns]"
            ]
          },
          "execution_count": 4,
          "metadata": {
            "tags": []
          },
          "output_type": "execute_result"
        }
      ],
      "source": [
        "print(display.shape)\n",
        "display.head()"
      ]
    },
    {
      "cell_type": "code",
      "execution_count": null,
      "metadata": {
        "colab": {
          "base_uri": "https://localhost:8080/",
          "height": 98
        },
        "id": "qVYRWe1nChXK",
        "outputId": "3f32ea88-cf40-4edf-a3ca-1a07b72f845e"
      },
      "outputs": [
        {
          "data": {
            "text/html": [
              "<div>\n",
              "<style scoped>\n",
              "    .dataframe tbody tr th:only-of-type {\n",
              "        vertical-align: middle;\n",
              "    }\n",
              "\n",
              "    .dataframe tbody tr th {\n",
              "        vertical-align: top;\n",
              "    }\n",
              "\n",
              "    .dataframe thead th {\n",
              "        text-align: right;\n",
              "    }\n",
              "</style>\n",
              "<table border=\"1\" class=\"dataframe\">\n",
              "  <thead>\n",
              "    <tr style=\"text-align: right;\">\n",
              "      <th></th>\n",
              "      <th>UserId</th>\n",
              "      <th>ProductId</th>\n",
              "      <th>ProfileName</th>\n",
              "      <th>Time</th>\n",
              "      <th>Score</th>\n",
              "      <th>Text</th>\n",
              "      <th>COUNT(*)</th>\n",
              "    </tr>\n",
              "  </thead>\n",
              "  <tbody>\n",
              "    <tr>\n",
              "      <th>80638</th>\n",
              "      <td>AZY10LLTJ71NX</td>\n",
              "      <td>B006P7E5ZI</td>\n",
              "      <td>undertheshrine \"undertheshrine\"</td>\n",
              "      <td>1334707200</td>\n",
              "      <td>5</td>\n",
              "      <td>I was recommended to try green tea extract to ...</td>\n",
              "      <td>5</td>\n",
              "    </tr>\n",
              "  </tbody>\n",
              "</table>\n",
              "</div>"
            ],
            "text/plain": [
              "              UserId  ... COUNT(*)\n",
              "80638  AZY10LLTJ71NX  ...        5\n",
              "\n",
              "[1 rows x 7 columns]"
            ]
          },
          "execution_count": 5,
          "metadata": {
            "tags": []
          },
          "output_type": "execute_result"
        }
      ],
      "source": [
        "display[display['UserId']=='AZY10LLTJ71NX']"
      ]
    },
    {
      "cell_type": "code",
      "execution_count": null,
      "metadata": {
        "colab": {
          "base_uri": "https://localhost:8080/",
          "height": 34
        },
        "id": "bk3oC9YoChXQ",
        "outputId": "aa71824a-f356-4802-a17f-335fa0fb78dc"
      },
      "outputs": [
        {
          "data": {
            "text/plain": [
              "393063"
            ]
          },
          "execution_count": 6,
          "metadata": {
            "tags": []
          },
          "output_type": "execute_result"
        }
      ],
      "source": [
        "display['COUNT(*)'].sum()"
      ]
    },
    {
      "cell_type": "markdown",
      "metadata": {
        "id": "1lWaQ1eFChXb"
      },
      "source": [
        "\n",
        "It is observed (as shown in the table below) that the reviews data had many duplicate entries. Hence it was necessary to remove duplicates in order to get unbiased results for the analysis of the data.  Following is an example:"
      ]
    },
    {
      "cell_type": "code",
      "execution_count": null,
      "metadata": {
        "colab": {
          "base_uri": "https://localhost:8080/",
          "height": 660
        },
        "id": "0scKI9A4ChXd",
        "outputId": "dbc8b3b4-3a11-4317-f943-99bce8300f7d",
        "scrolled": false
      },
      "outputs": [
        {
          "data": {
            "text/html": [
              "<div>\n",
              "<style scoped>\n",
              "    .dataframe tbody tr th:only-of-type {\n",
              "        vertical-align: middle;\n",
              "    }\n",
              "\n",
              "    .dataframe tbody tr th {\n",
              "        vertical-align: top;\n",
              "    }\n",
              "\n",
              "    .dataframe thead th {\n",
              "        text-align: right;\n",
              "    }\n",
              "</style>\n",
              "<table border=\"1\" class=\"dataframe\">\n",
              "  <thead>\n",
              "    <tr style=\"text-align: right;\">\n",
              "      <th></th>\n",
              "      <th>Id</th>\n",
              "      <th>ProductId</th>\n",
              "      <th>UserId</th>\n",
              "      <th>ProfileName</th>\n",
              "      <th>HelpfulnessNumerator</th>\n",
              "      <th>HelpfulnessDenominator</th>\n",
              "      <th>Score</th>\n",
              "      <th>Time</th>\n",
              "      <th>Summary</th>\n",
              "      <th>Text</th>\n",
              "    </tr>\n",
              "  </thead>\n",
              "  <tbody>\n",
              "    <tr>\n",
              "      <th>0</th>\n",
              "      <td>78445</td>\n",
              "      <td>B000HDL1RQ</td>\n",
              "      <td>AR5J8UI46CURR</td>\n",
              "      <td>Geetha Krishnan</td>\n",
              "      <td>2</td>\n",
              "      <td>2</td>\n",
              "      <td>5</td>\n",
              "      <td>1199577600</td>\n",
              "      <td>LOACKER QUADRATINI VANILLA WAFERS</td>\n",
              "      <td>DELICIOUS WAFERS. I FIND THAT EUROPEAN WAFERS ...</td>\n",
              "    </tr>\n",
              "    <tr>\n",
              "      <th>1</th>\n",
              "      <td>138317</td>\n",
              "      <td>B000HDOPYC</td>\n",
              "      <td>AR5J8UI46CURR</td>\n",
              "      <td>Geetha Krishnan</td>\n",
              "      <td>2</td>\n",
              "      <td>2</td>\n",
              "      <td>5</td>\n",
              "      <td>1199577600</td>\n",
              "      <td>LOACKER QUADRATINI VANILLA WAFERS</td>\n",
              "      <td>DELICIOUS WAFERS. I FIND THAT EUROPEAN WAFERS ...</td>\n",
              "    </tr>\n",
              "    <tr>\n",
              "      <th>2</th>\n",
              "      <td>138277</td>\n",
              "      <td>B000HDOPYM</td>\n",
              "      <td>AR5J8UI46CURR</td>\n",
              "      <td>Geetha Krishnan</td>\n",
              "      <td>2</td>\n",
              "      <td>2</td>\n",
              "      <td>5</td>\n",
              "      <td>1199577600</td>\n",
              "      <td>LOACKER QUADRATINI VANILLA WAFERS</td>\n",
              "      <td>DELICIOUS WAFERS. I FIND THAT EUROPEAN WAFERS ...</td>\n",
              "    </tr>\n",
              "    <tr>\n",
              "      <th>3</th>\n",
              "      <td>73791</td>\n",
              "      <td>B000HDOPZG</td>\n",
              "      <td>AR5J8UI46CURR</td>\n",
              "      <td>Geetha Krishnan</td>\n",
              "      <td>2</td>\n",
              "      <td>2</td>\n",
              "      <td>5</td>\n",
              "      <td>1199577600</td>\n",
              "      <td>LOACKER QUADRATINI VANILLA WAFERS</td>\n",
              "      <td>DELICIOUS WAFERS. I FIND THAT EUROPEAN WAFERS ...</td>\n",
              "    </tr>\n",
              "    <tr>\n",
              "      <th>4</th>\n",
              "      <td>155049</td>\n",
              "      <td>B000PAQ75C</td>\n",
              "      <td>AR5J8UI46CURR</td>\n",
              "      <td>Geetha Krishnan</td>\n",
              "      <td>2</td>\n",
              "      <td>2</td>\n",
              "      <td>5</td>\n",
              "      <td>1199577600</td>\n",
              "      <td>LOACKER QUADRATINI VANILLA WAFERS</td>\n",
              "      <td>DELICIOUS WAFERS. I FIND THAT EUROPEAN WAFERS ...</td>\n",
              "    </tr>\n",
              "  </tbody>\n",
              "</table>\n",
              "</div>"
            ],
            "text/plain": [
              "       Id  ...                                               Text\n",
              "0   78445  ...  DELICIOUS WAFERS. I FIND THAT EUROPEAN WAFERS ...\n",
              "1  138317  ...  DELICIOUS WAFERS. I FIND THAT EUROPEAN WAFERS ...\n",
              "2  138277  ...  DELICIOUS WAFERS. I FIND THAT EUROPEAN WAFERS ...\n",
              "3   73791  ...  DELICIOUS WAFERS. I FIND THAT EUROPEAN WAFERS ...\n",
              "4  155049  ...  DELICIOUS WAFERS. I FIND THAT EUROPEAN WAFERS ...\n",
              "\n",
              "[5 rows x 10 columns]"
            ]
          },
          "execution_count": 7,
          "metadata": {
            "tags": []
          },
          "output_type": "execute_result"
        }
      ],
      "source": [
        "display= pd.read_sql_query(\"\"\"\n",
        "SELECT *\n",
        "FROM Reviews\n",
        "WHERE Score != 3 AND UserId=\"AR5J8UI46CURR\"\n",
        "ORDER BY ProductID\n",
        "\"\"\", con)\n",
        "display.head()"
      ]
    },
    {
      "cell_type": "markdown",
      "metadata": {
        "id": "ORBstW7kChXk"
      },
      "source": [
        "As it can be seen above that same user has multiple reviews with same values for HelpfulnessNumerator, HelpfulnessDenominator, Score, Time, Summary and Text and on doing analysis it was found that <br>\n",
        "<br> \n",
        "ProductId=B000HDOPZG was Loacker Quadratini Vanilla Wafer Cookies, 8.82-Ounce Packages (Pack of 8)<br>\n",
        "<br> \n",
        "ProductId=B000HDL1RQ was Loacker Quadratini Lemon Wafer Cookies, 8.82-Ounce Packages (Pack of 8) and so on<br>\n",
        "\n",
        "It was inferred after analysis that reviews with same parameters other than ProductId belonged to the same product just having different flavour or quantity. Hence in order to reduce redundancy it was decided to eliminate the rows having same parameters.<br>\n",
        "\n",
        "The method used for the same was that we first sort the data according to ProductId and then just keep the first similar product review and delelte the others. for eg. in the above just the review for ProductId=B000HDL1RQ remains. This method ensures that there is only one representative for each product and deduplication without sorting would lead to possibility of different representatives still existing for the same product."
      ]
    },
    {
      "cell_type": "code",
      "execution_count": null,
      "metadata": {
        "collapsed": true,
        "id": "QjqRsNlrChXn"
      },
      "outputs": [],
      "source": [
        "#Sorting data according to ProductId in ascending order\n",
        "sorted_data=filtered_data.sort_values('ProductId', axis=0, ascending=True, inplace=False, kind='quicksort', na_position='last')"
      ]
    },
    {
      "cell_type": "code",
      "execution_count": null,
      "metadata": {
        "colab": {
          "base_uri": "https://localhost:8080/",
          "height": 34
        },
        "id": "5f7tJRTNChXr",
        "outputId": "0d27e608-b1d1-4495-d05c-6ba99be6efaa"
      },
      "outputs": [
        {
          "data": {
            "text/plain": [
              "(87775, 10)"
            ]
          },
          "execution_count": 9,
          "metadata": {
            "tags": []
          },
          "output_type": "execute_result"
        }
      ],
      "source": [
        "#Deduplication of entries\n",
        "final=sorted_data.drop_duplicates(subset={\"UserId\",\"ProfileName\",\"Time\",\"Text\"}, keep='first', inplace=False)\n",
        "final.shape"
      ]
    },
    {
      "cell_type": "code",
      "execution_count": null,
      "metadata": {
        "colab": {
          "base_uri": "https://localhost:8080/",
          "height": 34
        },
        "id": "OkMII7G4ChXx",
        "outputId": "059e2b4d-2bf0-4f30-8193-a1fd9f68c98a"
      },
      "outputs": [
        {
          "data": {
            "text/plain": [
              "87.775"
            ]
          },
          "execution_count": 10,
          "metadata": {
            "tags": []
          },
          "output_type": "execute_result"
        }
      ],
      "source": [
        "#Checking to see how much % of data still remains\n",
        "(final['Id'].size*1.0)/(filtered_data['Id'].size*1.0)*100"
      ]
    },
    {
      "cell_type": "markdown",
      "metadata": {
        "id": "GqWw3R5rChX6"
      },
      "source": [
        "<b>Observation:-</b> It was also seen that in two rows given below the value of HelpfulnessNumerator is greater than HelpfulnessDenominator which is not practically possible hence these two rows too are removed from calcualtions"
      ]
    },
    {
      "cell_type": "code",
      "execution_count": null,
      "metadata": {
        "colab": {
          "base_uri": "https://localhost:8080/",
          "height": 340
        },
        "id": "D04AzcxlChX-",
        "outputId": "0efc1faf-c43b-4192-9d40-e1cb7585ada4"
      },
      "outputs": [
        {
          "data": {
            "text/html": [
              "<div>\n",
              "<style scoped>\n",
              "    .dataframe tbody tr th:only-of-type {\n",
              "        vertical-align: middle;\n",
              "    }\n",
              "\n",
              "    .dataframe tbody tr th {\n",
              "        vertical-align: top;\n",
              "    }\n",
              "\n",
              "    .dataframe thead th {\n",
              "        text-align: right;\n",
              "    }\n",
              "</style>\n",
              "<table border=\"1\" class=\"dataframe\">\n",
              "  <thead>\n",
              "    <tr style=\"text-align: right;\">\n",
              "      <th></th>\n",
              "      <th>Id</th>\n",
              "      <th>ProductId</th>\n",
              "      <th>UserId</th>\n",
              "      <th>ProfileName</th>\n",
              "      <th>HelpfulnessNumerator</th>\n",
              "      <th>HelpfulnessDenominator</th>\n",
              "      <th>Score</th>\n",
              "      <th>Time</th>\n",
              "      <th>Summary</th>\n",
              "      <th>Text</th>\n",
              "    </tr>\n",
              "  </thead>\n",
              "  <tbody>\n",
              "    <tr>\n",
              "      <th>0</th>\n",
              "      <td>64422</td>\n",
              "      <td>B000MIDROQ</td>\n",
              "      <td>A161DK06JJMCYF</td>\n",
              "      <td>J. E. Stephens \"Jeanne\"</td>\n",
              "      <td>3</td>\n",
              "      <td>1</td>\n",
              "      <td>5</td>\n",
              "      <td>1224892800</td>\n",
              "      <td>Bought This for My Son at College</td>\n",
              "      <td>My son loves spaghetti so I didn't hesitate or...</td>\n",
              "    </tr>\n",
              "    <tr>\n",
              "      <th>1</th>\n",
              "      <td>44737</td>\n",
              "      <td>B001EQ55RW</td>\n",
              "      <td>A2V0I904FH7ABY</td>\n",
              "      <td>Ram</td>\n",
              "      <td>3</td>\n",
              "      <td>2</td>\n",
              "      <td>4</td>\n",
              "      <td>1212883200</td>\n",
              "      <td>Pure cocoa taste with crunchy almonds inside</td>\n",
              "      <td>It was almost a 'love at first bite' - the per...</td>\n",
              "    </tr>\n",
              "  </tbody>\n",
              "</table>\n",
              "</div>"
            ],
            "text/plain": [
              "      Id  ...                                               Text\n",
              "0  64422  ...  My son loves spaghetti so I didn't hesitate or...\n",
              "1  44737  ...  It was almost a 'love at first bite' - the per...\n",
              "\n",
              "[2 rows x 10 columns]"
            ]
          },
          "execution_count": 11,
          "metadata": {
            "tags": []
          },
          "output_type": "execute_result"
        }
      ],
      "source": [
        "display= pd.read_sql_query(\"\"\"\n",
        "SELECT *\n",
        "FROM Reviews\n",
        "WHERE Score != 3 AND Id=44737 OR Id=64422\n",
        "ORDER BY ProductID\n",
        "\"\"\", con)\n",
        "\n",
        "display.head()"
      ]
    },
    {
      "cell_type": "code",
      "execution_count": null,
      "metadata": {
        "collapsed": true,
        "id": "jgXX4VgCChYG"
      },
      "outputs": [],
      "source": [
        "final=final[final.HelpfulnessNumerator<=final.HelpfulnessDenominator]"
      ]
    },
    {
      "cell_type": "code",
      "execution_count": null,
      "metadata": {
        "colab": {
          "base_uri": "https://localhost:8080/",
          "height": 86
        },
        "id": "ItoTBxEAChYN",
        "outputId": "31aee23e-8a0e-41b6-abac-5a53e98f63af"
      },
      "outputs": [
        {
          "name": "stdout",
          "output_type": "stream",
          "text": [
            "(87773, 10)\n"
          ]
        },
        {
          "data": {
            "text/plain": [
              "1    73592\n",
              "0    14181\n",
              "Name: Score, dtype: int64"
            ]
          },
          "execution_count": 13,
          "metadata": {
            "tags": []
          },
          "output_type": "execute_result"
        }
      ],
      "source": [
        "#Before starting the next phase of preprocessing lets see the number of entries left\n",
        "print(final.shape)\n",
        "\n",
        "#How many positive and negative reviews are present in our dataset?\n",
        "final['Score'].value_counts()"
      ]
    },
    {
      "cell_type": "markdown",
      "metadata": {
        "id": "3pg73rLEChYa"
      },
      "source": [
        "Now that we have finished deduplication our data requires some preprocessing before we go on further with analysis and making the prediction model.\n",
        "\n",
        "Hence in the Preprocessing phase we do the following in the order below:-\n",
        "\n",
        "1. Begin by removing the html tags\n",
        "2. Remove any punctuations or limited set of special characters like , or . or # etc.\n",
        "3. Check if the word is made up of english letters and is not alpha-numeric\n",
        "4. Check to see if the length of the word is greater than 2 (as it was researched that there is no adjective in 2-letters)\n",
        "5. Convert the word to lowercase\n",
        "6. Remove Stopwords\n",
        "7. Finally Snowball Stemming the word (it was obsereved to be better than Porter Stemming)<br>\n",
        "\n",
        "After which we collect the words used to describe positive and negative reviews"
      ]
    },
    {
      "cell_type": "code",
      "execution_count": null,
      "metadata": {
        "colab": {
          "base_uri": "https://localhost:8080/",
          "height": 176
        },
        "id": "BZpKtJnDChYc",
        "outputId": "c870a61b-cfb7-4cf3-c955-ae0597c5e6c6"
      },
      "outputs": [
        {
          "name": "stdout",
          "output_type": "stream",
          "text": [
            "My dogs loves this chicken but its a product from China, so we wont be buying it anymore.  Its very hard to find any chicken products made in the USA but they are out there, but this one isnt.  Its too bad too because its a good product but I wont take any chances till they know what is going on with the china imports.\n",
            "==================================================\n",
            "The Candy Blocks were a nice visual for the Lego Birthday party but the candy has little taste to it.  Very little of the 2 lbs that I bought were eaten and I threw the rest away.  I would not buy the candy again.\n",
            "==================================================\n",
            "was way to hot for my blood, took a bite and did a jig  lol\n",
            "==================================================\n",
            "My dog LOVES these treats. They tend to have a very strong fish oil smell. So if you are afraid of the fishy smell, don't get it. But I think my dog likes it because of the smell. These treats are really small in size. They are great for training. You can give your dog several of these without worrying about him over eating. Amazon's price was much more reasonable than any other retailer. You can buy a 1 pound bag on Amazon for almost the same price as a 6 ounce bag at other retailers. It's definitely worth it to buy a big bag if your dog eats them a lot.\n",
            "==================================================\n"
          ]
        }
      ],
      "source": [
        "# printing some random reviews\n",
        "sent_0 = final['Text'].values[0]\n",
        "print(sent_0)\n",
        "print(\"=\"*50)\n",
        "\n",
        "sent_1000 = final['Text'].values[1000]\n",
        "print(sent_1000)\n",
        "print(\"=\"*50)\n",
        "\n",
        "sent_1500 = final['Text'].values[1500]\n",
        "print(sent_1500)\n",
        "print(\"=\"*50)\n",
        "\n",
        "sent_4900 = final['Text'].values[4900]\n",
        "print(sent_4900)\n",
        "print(\"=\"*50)"
      ]
    },
    {
      "cell_type": "code",
      "execution_count": null,
      "metadata": {
        "colab": {
          "base_uri": "https://localhost:8080/",
          "height": 54
        },
        "id": "tpufjpl_ChYm",
        "outputId": "645d2ecb-ac9e-4e0b-e9d5-37c96d7a3342"
      },
      "outputs": [
        {
          "name": "stdout",
          "output_type": "stream",
          "text": [
            "My dogs loves this chicken but its a product from China, so we wont be buying it anymore.  Its very hard to find any chicken products made in the USA but they are out there, but this one isnt.  Its too bad too because its a good product but I wont take any chances till they know what is going on with the china imports.\n"
          ]
        }
      ],
      "source": [
        "# remove urls from text python: https://stackoverflow.com/a/40823105/4084039\n",
        "sent_0 = re.sub(r\"http\\S+\", \"\", sent_0)\n",
        "sent_1000 = re.sub(r\"http\\S+\", \"\", sent_1000)\n",
        "sent_150 = re.sub(r\"http\\S+\", \"\", sent_1500)\n",
        "sent_4900 = re.sub(r\"http\\S+\", \"\", sent_4900)\n",
        "\n",
        "print(sent_0)"
      ]
    },
    {
      "cell_type": "code",
      "execution_count": null,
      "metadata": {
        "colab": {
          "base_uri": "https://localhost:8080/",
          "height": 159
        },
        "id": "giHr0E8zChYv",
        "outputId": "07035e4d-f8b5-4164-9663-baf1292274f6"
      },
      "outputs": [
        {
          "name": "stdout",
          "output_type": "stream",
          "text": [
            "My dogs loves this chicken but its a product from China, so we wont be buying it anymore.  Its very hard to find any chicken products made in the USA but they are out there, but this one isnt.  Its too bad too because its a good product but I wont take any chances till they know what is going on with the china imports.\n",
            "==================================================\n",
            "The Candy Blocks were a nice visual for the Lego Birthday party but the candy has little taste to it.  Very little of the 2 lbs that I bought were eaten and I threw the rest away.  I would not buy the candy again.\n",
            "==================================================\n",
            "was way to hot for my blood, took a bite and did a jig  lol\n",
            "==================================================\n",
            "My dog LOVES these treats. They tend to have a very strong fish oil smell. So if you are afraid of the fishy smell, don't get it. But I think my dog likes it because of the smell. These treats are really small in size. They are great for training. You can give your dog several of these without worrying about him over eating. Amazon's price was much more reasonable than any other retailer. You can buy a 1 pound bag on Amazon for almost the same price as a 6 ounce bag at other retailers. It's definitely worth it to buy a big bag if your dog eats them a lot.\n"
          ]
        }
      ],
      "source": [
        "# https://stackoverflow.com/questions/16206380/python-beautifulsoup-how-to-remove-all-tags-from-an-element\n",
        "from bs4 import BeautifulSoup\n",
        "\n",
        "soup = BeautifulSoup(sent_0, 'lxml')\n",
        "text = soup.get_text()\n",
        "print(text)\n",
        "print(\"=\"*50)\n",
        "\n",
        "soup = BeautifulSoup(sent_1000, 'lxml')\n",
        "text = soup.get_text()\n",
        "print(text)\n",
        "print(\"=\"*50)\n",
        "\n",
        "soup = BeautifulSoup(sent_1500, 'lxml')\n",
        "text = soup.get_text()\n",
        "print(text)\n",
        "print(\"=\"*50)\n",
        "\n",
        "soup = BeautifulSoup(sent_4900, 'lxml')\n",
        "text = soup.get_text()\n",
        "print(text)"
      ]
    },
    {
      "cell_type": "code",
      "execution_count": null,
      "metadata": {
        "collapsed": true,
        "id": "HdhtRruPChY3"
      },
      "outputs": [],
      "source": [
        "# https://stackoverflow.com/a/47091490/4084039\n",
        "import re\n",
        "\n",
        "def decontracted(phrase):\n",
        "    # specific\n",
        "    phrase = re.sub(r\"won't\", \"will not\", phrase)\n",
        "    phrase = re.sub(r\"can\\'t\", \"can not\", phrase)\n",
        "\n",
        "    # general\n",
        "    phrase = re.sub(r\"n\\'t\", \" not\", phrase)\n",
        "    phrase = re.sub(r\"\\'re\", \" are\", phrase)\n",
        "    phrase = re.sub(r\"\\'s\", \" is\", phrase)\n",
        "    phrase = re.sub(r\"\\'d\", \" would\", phrase)\n",
        "    phrase = re.sub(r\"\\'ll\", \" will\", phrase)\n",
        "    phrase = re.sub(r\"\\'t\", \" not\", phrase)\n",
        "    phrase = re.sub(r\"\\'ve\", \" have\", phrase)\n",
        "    phrase = re.sub(r\"\\'m\", \" am\", phrase)\n",
        "    return phrase"
      ]
    },
    {
      "cell_type": "code",
      "execution_count": null,
      "metadata": {
        "colab": {
          "base_uri": "https://localhost:8080/",
          "height": 52
        },
        "id": "S8yht6Y7ChY7",
        "outputId": "0c5053e9-0057-43bb-bd6f-5bbfad97b025"
      },
      "outputs": [
        {
          "name": "stdout",
          "output_type": "stream",
          "text": [
            "was way to hot for my blood, took a bite and did a jig  lol\n",
            "==================================================\n"
          ]
        }
      ],
      "source": [
        "sent_1500 = decontracted(sent_1500)\n",
        "print(sent_1500)\n",
        "print(\"=\"*50)"
      ]
    },
    {
      "cell_type": "code",
      "execution_count": null,
      "metadata": {
        "colab": {
          "base_uri": "https://localhost:8080/",
          "height": 54
        },
        "id": "zJU8V8P4ChZE",
        "outputId": "8b7d8971-187d-40bb-cbb5-c6872b4ac429"
      },
      "outputs": [
        {
          "name": "stdout",
          "output_type": "stream",
          "text": [
            "My dogs loves this chicken but its a product from China, so we wont be buying it anymore.  Its very hard to find any chicken products made in the USA but they are out there, but this one isnt.  Its too bad too because its a good product but I wont take any chances till they know what is going on with the china imports.\n"
          ]
        }
      ],
      "source": [
        "#remove words with numbers python: https://stackoverflow.com/a/18082370/4084039\n",
        "sent_0 = re.sub(\"\\S*\\d\\S*\", \"\", sent_0).strip()\n",
        "print(sent_0)"
      ]
    },
    {
      "cell_type": "code",
      "execution_count": null,
      "metadata": {
        "colab": {
          "base_uri": "https://localhost:8080/",
          "height": 34
        },
        "id": "zUDg3iWhChZL",
        "outputId": "dfc50784-2847-48e9-8d04-7cdea2928b42"
      },
      "outputs": [
        {
          "name": "stdout",
          "output_type": "stream",
          "text": [
            "was way to hot for my blood took a bite and did a jig lol\n"
          ]
        }
      ],
      "source": [
        "#remove spacial character: https://stackoverflow.com/a/5843547/4084039\n",
        "sent_1500 = re.sub('[^A-Za-z0-9]+', ' ', sent_1500)\n",
        "print(sent_1500)"
      ]
    },
    {
      "cell_type": "code",
      "execution_count": null,
      "metadata": {
        "collapsed": true,
        "id": "q2QebhvKChZR"
      },
      "outputs": [],
      "source": [
        "# https://gist.github.com/sebleier/554280\n",
        "# we are removing the words from the stop words list: 'no', 'nor', 'not'\n",
        "# <br /><br /> ==> after the above steps, we are getting \"br br\"\n",
        "# we are including them into stop words list\n",
        "# instead of <br /> if we have <br/> these tags would have revmoved in the 1st step\n",
        "\n",
        "stopwords= set(['br', 'the', 'i', 'me', 'my', 'myself', 'we', 'our', 'ours', 'ourselves', 'you', \"you're\", \"you've\",\\\n",
        "            \"you'll\", \"you'd\", 'your', 'yours', 'yourself', 'yourselves', 'he', 'him', 'his', 'himself', \\\n",
        "            'she', \"she's\", 'her', 'hers', 'herself', 'it', \"it's\", 'its', 'itself', 'they', 'them', 'their',\\\n",
        "            'theirs', 'themselves', 'what', 'which', 'who', 'whom', 'this', 'that', \"that'll\", 'these', 'those', \\\n",
        "            'am', 'is', 'are', 'was', 'were', 'be', 'been', 'being', 'have', 'has', 'had', 'having', 'do', 'does', \\\n",
        "            'did', 'doing', 'a', 'an', 'the', 'and', 'but', 'if', 'or', 'because', 'as', 'until', 'while', 'of', \\\n",
        "            'at', 'by', 'for', 'with', 'about', 'against', 'between', 'into', 'through', 'during', 'before', 'after',\\\n",
        "            'above', 'below', 'to', 'from', 'up', 'down', 'in', 'out', 'on', 'off', 'over', 'under', 'again', 'further',\\\n",
        "            'then', 'once', 'here', 'there', 'when', 'where', 'why', 'how', 'all', 'any', 'both', 'each', 'few', 'more',\\\n",
        "            'most', 'other', 'some', 'such', 'only', 'own', 'same', 'so', 'than', 'too', 'very', \\\n",
        "            's', 't', 'can', 'will', 'just', 'don', \"don't\", 'should', \"should've\", 'now', 'd', 'll', 'm', 'o', 're', \\\n",
        "            've', 'y', 'ain', 'aren', \"aren't\", 'couldn', \"couldn't\", 'didn', \"didn't\", 'doesn', \"doesn't\", 'hadn',\\\n",
        "            \"hadn't\", 'hasn', \"hasn't\", 'haven', \"haven't\", 'isn', \"isn't\", 'ma', 'mightn', \"mightn't\", 'mustn',\\\n",
        "            \"mustn't\", 'needn', \"needn't\", 'shan', \"shan't\", 'shouldn', \"shouldn't\", 'wasn', \"wasn't\", 'weren', \"weren't\", \\\n",
        "            'won', \"won't\", 'wouldn', \"wouldn't\"])"
      ]
    },
    {
      "cell_type": "code",
      "execution_count": null,
      "metadata": {
        "colab": {
          "base_uri": "https://localhost:8080/",
          "height": 34
        },
        "id": "SxOsbLMyChZV",
        "outputId": "84e0b2ad-edc9-4ae9-82b4-e51fdf1bcb47"
      },
      "outputs": [
        {
          "name": "stderr",
          "output_type": "stream",
          "text": [
            "100%|██████████| 87773/87773 [00:35<00:00, 2466.81it/s]\n"
          ]
        }
      ],
      "source": [
        "# Combining all the above stundents \n",
        "from tqdm import tqdm\n",
        "preprocessed_reviews = []\n",
        "# tqdm is for printing the status bar\n",
        "for sentance in tqdm(final['Text'].values):\n",
        "    sentance = re.sub(r\"http\\S+\", \"\", sentance)\n",
        "    sentance = BeautifulSoup(sentance, 'lxml').get_text()\n",
        "    sentance = decontracted(sentance)\n",
        "    sentance = re.sub(\"\\S*\\d\\S*\", \"\", sentance).strip()\n",
        "    sentance = re.sub('[^A-Za-z]+', ' ', sentance)\n",
        "    # https://gist.github.com/sebleier/554280\n",
        "    sentance = ' '.join(e.lower() for e in sentance.split() if e.lower() not in stopwords)\n",
        "    preprocessed_reviews.append(sentance.strip())"
      ]
    },
    {
      "cell_type": "code",
      "execution_count": null,
      "metadata": {
        "colab": {
          "base_uri": "https://localhost:8080/",
          "height": 34
        },
        "id": "QqPomIjSChZa",
        "outputId": "0722e527-f498-4982-feec-62da18fc5e5a"
      },
      "outputs": [
        {
          "data": {
            "text/plain": [
              "'way hot blood took bite jig lol'"
            ]
          },
          "execution_count": 23,
          "metadata": {
            "tags": []
          },
          "output_type": "execute_result"
        }
      ],
      "source": [
        "preprocessed_reviews[1500]"
      ]
    },
    {
      "cell_type": "markdown",
      "metadata": {
        "id": "B6Ssh6vvCha9"
      },
      "source": [
        "<ol>\n",
        "    <li><strong>Apply Truncated-SVD on only this feature set:</strong>\n",
        "        <ul>\n",
        "            <li><font color='red'>SET 2:</font>Review text, preprocessed one converted into vectors using (TFIDF)</li>\n",
        "    <br>\n",
        "    <li><strong>Procedure:</strong>\n",
        "        <ul>\n",
        "    <li>Take top 2000 or 3000 features from tf-idf vectorizers using idf_ score.</li>\n",
        "    <li>You need to calculate the co-occurrence matrix with the selected features (Note: X.X^T\n",
        "doesn’t give the co-occurrence matrix, it returns the covariance matrix, check these\n",
        "        bolgs <a href='https://medium.com/data-science-group-iitr/word-embedding-2d05d270b285'>blog-1,</a> <a href='https://www.analyticsvidhya.com/blog/2017/06/word-embeddings-count-word2veec/'>blog-2 </a>for more information)</li>\n",
        "            <li>You should choose the n_components in truncated svd, with maximum explained\n",
        "variance. Please search on how to choose that and implement them. (hint: plot of\n",
        "cumulative explained variance ratio)</li>\n",
        "            <li>After you are done with the truncated svd, you can apply K-Means clustering and choose\n",
        "the best number of clusters based on elbow method.</li>\n",
        "            <li> Print out wordclouds for each cluster, similar to that in previous assignment. </li>\n",
        "            <li>You need to write a function that takes a word and returns the most similar words using\n",
        "cosine similarity between the vectors(vector: a row in the matrix after truncatedSVD)</li>\n",
        "        </ul>\n",
        "    </li>\n",
        "    <br>\n",
        "    \n",
        "</ol>"
      ]
    },
    {
      "cell_type": "markdown",
      "metadata": {
        "id": "9J6ObJ9dCha_"
      },
      "source": [
        "##<font color='green'><b>EXPERIMENT</b></font>"
      ]
    },
    {
      "cell_type": "markdown",
      "metadata": {
        "id": "ka5b8FFd3aLb"
      },
      "source": [
        "<font color='green'><b>Common Functions/Variables"
      ]
    },
    {
      "cell_type": "code",
      "execution_count": null,
      "metadata": {
        "collapsed": true,
        "id": "eHxM-8Ci3eCh"
      },
      "outputs": [],
      "source": [
        "from sklearn.metrics.pairwise import cosine_similarity\n",
        "from sklearn.decomposition import TruncatedSVD\n",
        "from sklearn.preprocessing import StandardScaler\n",
        "from sklearn.cluster import KMeans\n",
        "from wordcloud import WordCloud\n",
        "import operator\n",
        "maxFeatures = 2000\n",
        "neighbourhood = 2\n",
        "X = preprocessed_reviews\n",
        "K = [1, 2, 3, 4, 5, 6, 7, 8, 9, 10]\n",
        "std = StandardScaler(with_mean = False)"
      ]
    },
    {
      "cell_type": "code",
      "execution_count": null,
      "metadata": {
        "collapsed": true,
        "id": "fsAR1QyfHNlE"
      },
      "outputs": [],
      "source": [
        "def plotGraph(inertia, k = K):\n",
        "  plt.plot(k, inertia, marker='o', markerfacecolor='blue',\n",
        "  markersize = 8, color='skyblue', linewidth = 4)\n",
        "  plt.axis('tight')\n",
        "  plt.grid()\n",
        "  plt.xlabel('K values')\n",
        "  plt.ylabel('Inertia (intra-cluster distance)')\n",
        "  plt.title('Knee Method to find Optimal \\'K\\'')\n",
        "  plt.show()"
      ]
    },
    {
      "cell_type": "code",
      "execution_count": null,
      "metadata": {
        "collapsed": true,
        "id": "nJ53PBYuOji4"
      },
      "outputs": [],
      "source": [
        "def generate_word_cloud(text_list):\n",
        "  cloud = \" \".join(word for word in text_list)\n",
        "  if len(cloud) == 0:\n",
        "    return\n",
        "  wordcloud = WordCloud(background_color = 'white')\n",
        "  kMeansWordCloud = wordcloud.generate(cloud)\n",
        "  plt.figure(figsize = (12, 8))\n",
        "  plt.imshow(kMeansWordCloud)\n",
        "  plt.title(\"\\n \\n Word Cloud of Reviews in the Cluster \\n\\n\")\n",
        "  plt.axis(\"off\")"
      ]
    },
    {
      "cell_type": "markdown",
      "metadata": {
        "id": "MkBTVWfDChbA"
      },
      "source": [
        "###<font color='green'><b>Taking top features from TFIDF"
      ]
    },
    {
      "cell_type": "code",
      "execution_count": null,
      "metadata": {
        "collapsed": true,
        "id": "cKI44V1HChbB"
      },
      "outputs": [],
      "source": [
        "# TfidfVectorizer will have an parameter which takes maximum features\n",
        "vectorizer = TfidfVectorizer(ngram_range = (1, 1), max_features = maxFeatures)\n"
      ]
    },
    {
      "cell_type": "code",
      "execution_count": null,
      "metadata": {
        "colab": {
          "base_uri": "https://localhost:8080/",
          "height": 139
        },
        "id": "NGFBMnmc3qoO",
        "outputId": "3d4109be-bdb4-4ecc-95bb-b03376e524b6"
      },
      "outputs": [
        {
          "data": {
            "text/plain": [
              "TfidfVectorizer(analyzer='word', binary=False, decode_error='strict',\n",
              "                dtype=<class 'numpy.float64'>, encoding='utf-8',\n",
              "                input='content', lowercase=True, max_df=1.0, max_features=2000,\n",
              "                min_df=1, ngram_range=(1, 1), norm='l2', preprocessor=None,\n",
              "                smooth_idf=True, stop_words=None, strip_accents=None,\n",
              "                sublinear_tf=False, token_pattern='(?u)\\\\b\\\\w\\\\w+\\\\b',\n",
              "                tokenizer=None, use_idf=True, vocabulary=None)"
            ]
          },
          "execution_count": 27,
          "metadata": {
            "tags": []
          },
          "output_type": "execute_result"
        }
      ],
      "source": [
        "#Learning the vocabulary from the data\n",
        "vectorizer.fit(X)"
      ]
    },
    {
      "cell_type": "code",
      "execution_count": null,
      "metadata": {
        "collapsed": true,
        "id": "vgt3ddUV32WJ"
      },
      "outputs": [],
      "source": [
        "X_tfidf = vectorizer.transform(X);"
      ]
    },
    {
      "cell_type": "code",
      "execution_count": null,
      "metadata": {
        "collapsed": true,
        "id": "4M7_THI_4GcV"
      },
      "outputs": [],
      "source": [
        "maxFeatureWords = vectorizer.get_feature_names()"
      ]
    },
    {
      "cell_type": "code",
      "execution_count": null,
      "metadata": {
        "colab": {
          "base_uri": "https://localhost:8080/",
          "height": 72
        },
        "id": "5BYIr-pG4gb7",
        "outputId": "6fece431-dd49-4438-fbfd-2889e9549b57"
      },
      "outputs": [
        {
          "name": "stdout",
          "output_type": "stream",
          "text": [
            "2000\n",
            "['able', 'absolute', 'absolutely', 'according', 'acid', 'acidic', 'across', 'actual', 'actually', 'add', 'added', 'addicted', 'addictive', 'adding', 'addition', 'additional', 'additives', 'adds', 'admit', 'adult', 'adults', 'advertised', 'affordable', 'afraid', 'afternoon', 'aftertaste', 'agave', 'age', 'ago', 'agree', 'ahead', 'air', 'allergic', 'allergies', 'allergy', 'allow', 'allows', 'almond', 'almonds', 'almost', 'alone', 'along', 'alot', 'already', 'also', 'alternative', 'although', 'always', 'amazed', 'amazing', 'amazon', 'american', 'among', 'amount', 'amounts', 'animal', 'another', 'answer', 'anymore', 'anyone', 'anything', 'anytime', 'anyway', 'anywhere', 'apart', 'apparently', 'appealing', 'appears', 'apple', 'apples', 'appreciate', 'area', 'aroma', 'around', 'arrive', 'arrived', 'artificial', 'asian', 'ask', 'asked', 'ate', 'attention', 'authentic', 'auto', 'available', 'average', 'avoid', 'aware', 'away', 'awesome', 'awful', 'awhile', 'babies', 'baby', 'back', 'bacon', 'bad', 'bag', 'bags', 'bake', 'baked', 'baking', 'balance', 'balanced', 'ball', 'banana', 'bar', 'barely', 'bargain', 'barley', 'bars', 'base', 'based', 'basic', 'basically', 'basis', 'basket', 'batch', 'bay', 'bbq', 'bean', 'beans', 'bear', 'bears', 'beat', 'beats', 'beautiful', 'became', 'become', 'bed', 'beef', 'beer', 'began', 'begin', 'behind', 'believe', 'bell', 'benefit', 'benefits', 'berries', 'berry', 'besides', 'best', 'better', 'beverage', 'beverages', 'beware', 'beyond', 'big', 'bigelow', 'bigger', 'bill', 'birthday', 'biscuits', 'bit', 'bite', 'bites', 'bits', 'bitter', 'bitterness', 'black', 'bland', 'blend', 'blends', 'blood', 'blue', 'blueberries', 'blueberry', 'bodied', 'body', 'boil', 'boiling', 'bold', 'bone', 'bones', 'bonus', 'book', 'boost', 'bother', 'bottle', 'bottled', 'bottles', 'bottom', 'bought', 'bowl', 'bowls', 'box', 'boxes', 'boy', 'bpa', 'bran', 'brand', 'brands', 'bread', 'break', 'breakfast', 'breast', 'breath', 'breed', 'brew', 'brewed', 'brewer', 'brewing', 'bright', 'bring', 'brings', 'broccoli', 'broke', 'broken', 'broth', 'brother', 'brought', 'brown', 'brownie', 'brownies', 'bucks', 'buds', 'buffalo', 'bulk', 'bunch', 'burn', 'burnt', 'business', 'busy', 'butter', 'buttery', 'buy', 'buying', 'ca', 'cacao', 'cafe', 'caffeine', 'cake', 'cakes', 'cal', 'calcium', 'california', 'call', 'called', 'calorie', 'calories', 'came', 'cancer', 'candies', 'candy', 'cane', 'canidae', 'canned', 'cannot', 'cans', 'cant', 'cap', 'capsules', 'car', 'caramel', 'carb', 'carbonated', 'carbonation', 'carbs', 'cardboard', 'care', 'careful', 'carefully', 'carried', 'carries', 'carrots', 'carry', 'carrying', 'case', 'cases', 'cashews', 'cat', 'cats', 'caught', 'cause', 'caused', 'celiac', 'center', 'cents', 'cereal', 'cereals', 'certain', 'certainly', 'certified', 'chai', 'chance', 'change', 'changed', 'charge', 'cheap', 'cheaper', 'check', 'checked', 'cheddar', 'cheese', 'cheesy', 'chef', 'chemical', 'chemicals', 'cherries', 'cherry', 'chew', 'chewed', 'chewing', 'chews', 'chewy', 'chia', 'chicken', 'child', 'children', 'chili', 'china', 'chinese', 'chip', 'chipotle', 'chips', 'chocolate', 'chocolates', 'choice', 'choices', 'cholesterol', 'choose', 'chopped', 'chops', 'chose', 'christmas', 'chunks', 'cinnamon', 'citrus', 'claim', 'claims', 'classic', 'clean', 'cleaning', 'clear', 'clearly', 'close', 'club', 'co', 'coat', 'coating', 'coco', 'cocoa', 'coconut', 'coffee', 'coffees', 'cola', 'cold', 'color', 'colors', 'com', 'combination', 'combined', 'come', 'comes', 'coming', 'comment', 'comments', 'commercial', 'common', 'companies', 'company', 'comparable', 'compare', 'compared', 'comparison', 'complain', 'complaint', 'complaints', 'complete', 'completely', 'complex', 'concentrate', 'concern', 'concerned', 'condition', 'conditioner', 'consider', 'considered', 'considering', 'consistency', 'consistent', 'consistently', 'consume', 'contact', 'contacted', 'contain', 'contained', 'container', 'containers', 'contains', 'content', 'contents', 'continue', 'control', 'convenience', 'convenient', 'cook', 'cooked', 'cookie', 'cookies', 'cooking', 'cooks', 'cool', 'corn', 'correct', 'cost', 'costco', 'costs', 'could', 'count', 'counter', 'country', 'couple', 'course', 'cover', 'covered', 'cracker', 'crackers', 'craving', 'cravings', 'crazy', 'cream', 'creamer', 'creamy', 'create', 'crisp', 'crispy', 'crumbs', 'crunch', 'crunchy', 'crushed', 'crust', 'crystal', 'cubes', 'cup', 'cups', 'current', 'currently', 'curry', 'customer', 'customers', 'cut', 'cute', 'dad', 'daily', 'dairy', 'damage', 'damaged', 'dark', 'darker', 'date', 'dates', 'daughter', 'day', 'days', 'deal', 'decaf', 'decent', 'decided', 'deep', 'definately', 'definitely', 'delicate', 'delicious', 'delight', 'delighted', 'delightful', 'delivered', 'delivery', 'dense', 'dental', 'dented', 'depending', 'describe', 'described', 'description', 'design', 'desk', 'despite', 'dessert', 'diabetic', 'diamond', 'diarrhea', 'didnt', 'diet', 'dietary', 'difference', 'different', 'difficult', 'digestion', 'digestive', 'dinner', 'dip', 'dipping', 'direct', 'directions', 'directly', 'disappointed', 'disappointing', 'disappointment', 'discontinued', 'discount', 'discovered', 'disease', 'disgusting', 'dish', 'dishes', 'dissolve', 'doctor', 'dog', 'dogs', 'dollar', 'dollars', 'done', 'dont', 'donut', 'door', 'double', 'doubt', 'dough', 'downside', 'dozen', 'dr', 'drain', 'drank', 'dressing', 'dried', 'drink', 'drinker', 'drinking', 'drinks', 'drip', 'drive', 'drop', 'drops', 'dry', 'duck', 'due', 'dust', 'earl', 'earlier', 'early', 'earth', 'ease', 'easier', 'easily', 'easy', 'eat', 'eaten', 'eater', 'eating', 'eats', 'economical', 'edible', 'effect', 'effective', 'effects', 'effort', 'egg', 'eggs', 'eight', 'either', 'else', 'elsewhere', 'em', 'email', 'empty', 'end', 'ended', 'energy', 'england', 'english', 'enjoy', 'enjoyable', 'enjoyed', 'enjoying', 'enjoys', 'enough', 'entire', 'equal', 'especially', 'espresso', 'etc', 'even', 'evening', 'eventually', 'ever', 'every', 'everyday', 'everyone', 'everything', 'everywhere', 'exact', 'exactly', 'example', 'excellent', 'except', 'exception', 'excited', 'expect', 'expectations', 'expected', 'expecting', 'expensive', 'experience', 'experienced', 'expiration', 'extra', 'extract', 'extremely', 'eye', 'eyes', 'fabulous', 'face', 'fact', 'factor', 'fair', 'fairly', 'fake', 'fall', 'familiar', 'family', 'fan', 'fancy', 'fantastic', 'far', 'farms', 'fast', 'faster', 'fat', 'fats', 'favor', 'favorite', 'favorites', 'fear', 'feast', 'fed', 'feed', 'feeding', 'feel', 'feeling', 'feels', 'fell', 'felt', 'fiber', 'figure', 'figured', 'fill', 'filled', 'fillers', 'filling', 'filter', 'finally', 'find', 'finding', 'fine', 'fingers', 'finicky', 'finish', 'finished', 'firm', 'first', 'fish', 'fishy', 'fit', 'fits', 'five', 'fix', 'flakes', 'flat', 'flavor', 'flavored', 'flavorful', 'flavoring', 'flavors', 'flavour', 'flax', 'floor', 'flour', 'flowers', 'foil', 'folks', 'follow', 'followed', 'following', 'food', 'foods', 'forever', 'forget', 'form', 'formula', 'forward', 'found', 'four', 'francisco', 'free', 'freeze', 'freezer', 'french', 'frequently', 'fresh', 'freshness', 'fridge', 'fried', 'friend', 'friendly', 'friends', 'front', 'frosting', 'frozen', 'fructose', 'fruit', 'fruits', 'fruity', 'fry', 'fuel', 'full', 'fully', 'fun', 'funny', 'future', 'gallon', 'garbage', 'garlic', 'gas', 'gave', 'general', 'generally', 'german', 'get', 'gets', 'getting', 'gf', 'gift', 'gifts', 'ginger', 'girl', 'give', 'given', 'gives', 'giving', 'glad', 'glass', 'gluten', 'gmo', 'go', 'god', 'goes', 'going', 'gold', 'golden', 'gone', 'good', 'goodness', 'goods', 'got', 'gotten', 'gourmet', 'grab', 'grade', 'grain', 'grains', 'grams', 'granola', 'grape', 'grass', 'gravy', 'greasy', 'great', 'green', 'greenies', 'grew', 'grey', 'grilled', 'grind', 'grocery', 'gross', 'ground', 'grounds', 'grow', 'growing', 'grown', 'guess', 'guests', 'guilt', 'guilty', 'gum', 'gummi', 'gummy', 'gums', 'guy', 'guys', 'hair', 'half', 'hamburger', 'hand', 'handful', 'handle', 'hands', 'handy', 'happen', 'happened', 'happens', 'happy', 'hard', 'harder', 'hardly', 'haribo', 'hate', 'hazelnut', 'head', 'health', 'healthier', 'healthy', 'heard', 'heart', 'heat', 'heaven', 'heavy', 'help', 'helped', 'helpful', 'helping', 'helps', 'herbal', 'herbs', 'hershey', 'hide', 'high', 'higher', 'highly', 'hint', 'hit', 'hold', 'holds', 'holiday', 'home', 'homemade', 'honest', 'honestly', 'honey', 'hooked', 'hope', 'hopefully', 'hoping', 'horrible', 'hot', 'hour', 'hours', 'house', 'household', 'however', 'huge', 'human', 'hungry', 'husband', 'ice', 'iced', 'idea', 'illy', 'im', 'imagine', 'immediately', 'important', 'impossible', 'impressed', 'improved', 'inch', 'include', 'included', 'including', 'increase', 'incredible', 'incredibly', 'indeed', 'indian', 'individual', 'individually', 'inexpensive', 'info', 'information', 'ingredient', 'ingredients', 'initially', 'inside', 'instant', 'instantly', 'instead', 'instructions', 'intake', 'intense', 'interest', 'interested', 'interesting', 'internet', 'introduced', 'iron', 'issue', 'issues', 'italian', 'item', 'items', 'jack', 'japanese', 'jar', 'jars', 'jasmine', 'jelly', 'jerky', 'jet', 'job', 'joe', 'jug', 'juice', 'juices', 'junk', 'kashi', 'keep', 'keeping', 'keeps', 'kept', 'kernels', 'ketchup', 'kettle', 'keurig', 'kibble', 'kick', 'kid', 'kids', 'kind', 'kinda', 'kinds', 'kit', 'kitchen', 'kitty', 'kiwi', 'knew', 'know', 'knowing', 'known', 'knows', 'kona', 'kraft', 'lab', 'label', 'lack', 'lamb', 'large', 'larger', 'last', 'lasted', 'lasts', 'late', 'later', 'latte', 'law', 'layer', 'lb', 'lbs', 'leaf', 'learned', 'least', 'leave', 'leaves', 'leaving', 'left', 'lemon', 'lemonade', 'less', 'let', 'level', 'levels', 'lick', 'licorice', 'lid', 'life', 'light', 'lighter', 'lightly', 'like', 'liked', 'likely', 'likes', 'liking', 'lime', 'limited', 'line', 'lipton', 'liquid', 'list', 'listed', 'literally', 'little', 'live', 'lived', 'liver', 'living', 'loaded', 'local', 'locally', 'lol', 'long', 'longer', 'look', 'looked', 'looking', 'looks', 'loose', 'lose', 'loss', 'lost', 'lot', 'lots', 'love', 'loved', 'lovely', 'lover', 'lovers', 'loves', 'low', 'lower', 'luck', 'lucky', 'lunch', 'mac', 'machine', 'made', 'magic', 'mail', 'main', 'major', 'make', 'maker', 'makes', 'making', 'man', 'mango', 'manufacturer', 'many', 'maple', 'market', 'marshmallow', 'matcha', 'mate', 'matter', 'may', 'maybe', 'mayo', 'meal', 'meals', 'mean', 'means', 'meant', 'meat', 'meats', 'medicine', 'medium', 'melt', 'melted', 'melts', 'mention', 'mentioned', 'mess', 'messy', 'method', 'mexican', 'mg', 'michael', 'microwave', 'mid', 'middle', 'might', 'mild', 'milk', 'mill', 'mind', 'mine', 'minerals', 'mini', 'mint', 'minute', 'minutes', 'miracle', 'miss', 'missing', 'mistake', 'mix', 'mixed', 'mixes', 'mixing', 'mixture', 'mocha', 'moist', 'moisture', 'mom', 'moment', 'money', 'month', 'months', 'morning', 'mostly', 'mother', 'mountain', 'mouth', 'moved', 'movie', 'msg', 'much', 'muffins', 'mug', 'multiple', 'mushrooms', 'mushy', 'must', 'mustard', 'name', 'nasty', 'natural', 'naturally', 'nature', 'near', 'nearly', 'need', 'needed', 'needs', 'negative', 'neither', 'never', 'new', 'newman', 'next', 'nice', 'nicely', 'night', 'no', 'non', 'none', 'noodle', 'noodles', 'nor', 'normal', 'normally', 'nose', 'not', 'note', 'noted', 'nothing', 'notice', 'noticed', 'number', 'nut', 'nutrients', 'nutrition', 'nutritional', 'nutritious', 'nuts', 'nutty', 'oatmeal', 'oats', 'obviously', 'occasional', 'occasionally', 'odd', 'odor', 'offer', 'offered', 'offering', 'offers', 'office', 'often', 'oh', 'oil', 'oils', 'oily', 'ok', 'okay', 'old', 'older', 'olive', 'olives', 'one', 'ones', 'onion', 'onions', 'online', 'onto', 'open', 'opened', 'opening', 'opinion', 'option', 'options', 'orange', 'order', 'ordered', 'ordering', 'orders', 'organic', 'organics', 'original', 'originally', 'others', 'otherwise', 'ounce', 'ounces', 'outside', 'outstanding', 'oven', 'overall', 'overly', 'overpowering', 'overwhelming', 'owners', 'oz', 'pack', 'package', 'packaged', 'packages', 'packaging', 'packed', 'packet', 'packets', 'packing', 'packs', 'page', 'paid', 'pain', 'pamela', 'pan', 'pancake', 'pancakes', 'pantry', 'paper', 'parents', 'part', 'particular', 'particularly', 'parts', 'party', 'pass', 'past', 'pasta', 'paste', 'pay', 'paying', 'pb', 'peach', 'peanut', 'peanuts', 'peas', 'people', 'pepper', 'peppermint', 'peppers', 'per', 'perfect', 'perfectly', 'perhaps', 'period', 'person', 'personal', 'personally', 'pet', 'pets', 'pg', 'pick', 'picked', 'picky', 'picture', 'pie', 'piece', 'pieces', 'pill', 'pills', 'pineapple', 'pink', 'pizza', 'place', 'placed', 'places', 'plain', 'plan', 'plant', 'plants', 'plastic', 'plate', 'play', 'pleasant', 'pleasantly', 'please', 'pleased', 'pleasure', 'plenty', 'plus', 'pocket', 'pod', 'pods', 'point', 'points', 'pomegranate', 'poor', 'pop', 'popchips', 'popcorn', 'popped', 'popper', 'pops', 'popular', 'pork', 'portion', 'positive', 'possible', 'possibly', 'post', 'pot', 'potassium', 'potato', 'potatoes', 'pouch', 'pouches', 'pound', 'pounds', 'pour', 'poured', 'powder', 'powdered', 'power', 'pre', 'prefer', 'preference', 'preferred', 'premium', 'prepare', 'prepared', 'present', 'preservatives', 'press', 'pressure', 'pretty', 'pretzels', 'prevent', 'previous', 'previously', 'price', 'priced', 'prices', 'pricey', 'pricing', 'prime', 'probably', 'problem', 'problems', 'process', 'processed', 'produce', 'produced', 'product', 'products', 'program', 'promptly', 'properly', 'protein', 'provide', 'provides', 'pudding', 'pull', 'pumpkin', 'punch', 'puppy', 'purchase', 'purchased', 'purchasing', 'pure', 'purina', 'purpose', 'purse', 'put', 'putting', 'quaker', 'quality', 'quantity', 'quick', 'quickly', 'quite', 'raisin', 'raisins', 'ramen', 'ran', 'range', 'rarely', 'raspberry', 'rate', 'rather', 'rating', 'raw', 'rawhide', 'reach', 'reaction', 'read', 'reading', 'ready', 'real', 'realize', 'realized', 'really', 'reason', 'reasonable', 'reasonably', 'reasons', 'receive', 'received', 'recent', 'recently', 'recipe', 'recipes', 'recommend', 'recommended', 'red', 'reduce', 'reduced', 'refreshing', 'refrigerator', 'refund', 'regret', 'regular', 'regularly', 'relatively', 'remaining', 'remember', 'reminds', 'remove', 'replace', 'replacement', 'require', 'resealable', 'research', 'response', 'rest', 'restaurant', 'restaurants', 'result', 'results', 'retail', 'return', 'returned', 'review', 'reviewer', 'reviewers', 'reviews', 'rice', 'rich', 'rid', 'right', 'rinds', 'rinse', 'risk', 'road', 'roast', 'roasted', 'roasts', 'robust', 'rock', 'roll', 'rolls', 'room', 'root', 'rope', 'rose', 'round', 'rub', 'run', 'running', 'runs', 'sad', 'sadly', 'safe', 'said', 'salad', 'salads', 'sale', 'salmon', 'salsa', 'salt', 'salted', 'salty', 'sample', 'san', 'sandwich', 'sandwiches', 'sardines', 'satisfied', 'satisfy', 'satisfying', 'saturated', 'sauce', 'sauces', 'sausage', 'save', 'saved', 'saves', 'saving', 'savory', 'saw', 'say', 'saying', 'says', 'scalp', 'scent', 'school', 'science', 'scoop', 'scratch', 'sea', 'seal', 'sealed', 'search', 'searched', 'searching', 'season', 'seasoning', 'seasonings', 'second', 'seconds', 'see', 'seed', 'seeds', 'seeing', 'seem', 'seemed', 'seems', 'seen', 'selection', 'self', 'sell', 'seller', 'selling', 'sells', 'send', 'sense', 'sensitive', 'sent', 'separate', 'serious', 'seriously', 'serve', 'served', 'service', 'serving', 'servings', 'sesame', 'set', 'setting', 'several', 'shake', 'shakes', 'shame', 'shampoo', 'shape', 'share', 'shared', 'shelf', 'shelves', 'shiny', 'ship', 'shipment', 'shipped', 'shipping', 'shop', 'shopping', 'short', 'shot', 'show', 'shown', 'shows', 'shrimp', 'sick', 'side', 'similar', 'simple', 'simply', 'since', 'single', 'sip', 'sister', 'sit', 'site', 'sitting', 'six', 'size', 'sized', 'sizes', 'skeptical', 'skin', 'sleep', 'sliced', 'slices', 'slight', 'slightly', 'slow', 'slowly', 'small', 'smaller', 'smart', 'smell', 'smelled', 'smells', 'smoked', 'smooth', 'smoothies', 'snack', 'snacking', 'snacks', 'soda', 'sodas', 'sodium', 'soft', 'softer', 'sold', 'solid', 'solution', 'somehow', 'someone', 'something', 'sometimes', 'somewhat', 'somewhere', 'son', 'soon', 'sorry', 'sort', 'sound', 'sounds', 'soup', 'soups', 'sour', 'source', 'south', 'soy', 'space', 'spaghetti', 'sparkling', 'special', 'spend', 'spent', 'spice', 'spices', 'spicy', 'spinach', 'splenda', 'split', 'spoon', 'spot', 'spread', 'sprinkle', 'sprouts', 'squeeze', 'stale', 'stand', 'standard', 'staple', 'star', 'starbucks', 'stars', 'start', 'started', 'starting', 'starts', 'stash', 'state', 'stated', 'states', 'stay', 'stays', 'steak', 'steep', 'step', 'stevia', 'stick', 'sticks', 'sticky', 'still', 'stir', 'stock', 'stomach', 'stop', 'stopped', 'storage', 'store', 'stores', 'stove', 'straight', 'strange', 'strawberries', 'strawberry', 'strength', 'strips', 'strong', 'stronger', 'strongly', 'stuck', 'stuff', 'style', 'subscribe', 'subscription', 'substitute', 'subtle', 'success', 'sucralose', 'sugar', 'sugars', 'sugary', 'suggest', 'suggested', 'summer', 'sun', 'sunflower', 'super', 'superior', 'supermarket', 'supermarkets', 'supplement', 'supply', 'suppose', 'supposed', 'sure', 'surprise', 'surprised', 'surprisingly', 'sweet', 'sweeten', 'sweetened', 'sweetener', 'sweeteners', 'sweeter', 'sweetness', 'switch', 'switched', 'switching', 'syrup', 'syrups', 'system', 'table', 'tablespoon', 'tablespoons', 'taco', 'take', 'taken', 'takes', 'taking', 'talking', 'tangy', 'target', 'tart', 'taste', 'tasted', 'tasteless', 'tastes', 'tasting', 'tasty', 'tea', 'teas', 'teaspoon', 'teeth', 'tell', 'temperature', 'ten', 'tend', 'tender', 'tends', 'terms', 'terrible', 'terrier', 'terrific', 'test', 'texture', 'thai', 'thank', 'thanks', 'thats', 'theater', 'therefore', 'thick', 'thicker', 'thin', 'thing', 'things', 'think', 'thinking', 'third', 'though', 'thought', 'three', 'threw', 'thrilled', 'throat', 'throughout', 'throw', 'throwing', 'thru', 'thus', 'time', 'timely', 'times', 'tin', 'tiny', 'tips', 'tired', 'title', 'toast', 'today', 'tofu', 'together', 'told', 'tomato', 'tomatoes', 'ton', 'tongue', 'took', 'tooth', 'top', 'topping', 'toss', 'total', 'totally', 'touch', 'tough', 'town', 'toy', 'toys', 'trade', 'trader', 'traditional', 'training', 'trans', 'trash', 'travel', 'tray', 'treat', 'treats', 'tree', 'trick', 'tried', 'trip', 'trips', 'trouble', 'true', 'truffle', 'truly', 'trust', 'try', 'trying', 'tummy', 'tuna', 'turkey', 'turn', 'turned', 'turns', 'twice', 'two', 'type', 'types', 'typical', 'typically', 'unable', 'understand', 'unfortunately', 'unhealthy', 'unique', 'unless', 'unlike', 'unpleasant', 'unsweetened', 'update', 'upon', 'ups', 'upset', 'us', 'usa', 'use', 'used', 'uses', 'using', 'usual', 'usually', 'value', 'vanilla', 'varieties', 'variety', 'various', 'vegan', 'vegetable', 'vegetables', 'vegetarian', 'veggie', 'veggies', 'velveeta', 'vendor', 'version', 'vet', 'via', 'vine', 'vinegar', 'visit', 'vita', 'vitamin', 'vitamins', 'vs', 'waffles', 'wait', 'waiting', 'wake', 'walk', 'walmart', 'want', 'wanted', 'wanting', 'wants', 'warm', 'warning', 'wash', 'waste', 'watch', 'watching', 'water', 'watery', 'way', 'ways', 'weak', 'weather', 'web', 'website', 'week', 'weeks', 'weight', 'weird', 'well', 'wellness', 'went', 'wet', 'whatever', 'wheat', 'whenever', 'whether', 'white', 'whole', 'wholesome', 'wide', 'wife', 'wild', 'willing', 'win', 'wine', 'winner', 'winter', 'wise', 'wish', 'within', 'without', 'wonder', 'wonderful', 'wonderfully', 'wont', 'word', 'words', 'work', 'worked', 'working', 'workout', 'works', 'world', 'worried', 'worry', 'worse', 'worst', 'worth', 'would', 'wow', 'wrap', 'wrapped', 'write', 'writing', 'wrong', 'xylitol', 'yeah', 'year', 'years', 'yeast', 'yellow', 'yes', 'yesterday', 'yet', 'yogurt', 'young', 'yuck', 'yum', 'yummy', 'zero', 'zico', 'zip']\n"
          ]
        }
      ],
      "source": [
        "print(len(maxFeatureWords))\n",
        "print(maxFeatureWords)"
      ]
    },
    {
      "cell_type": "markdown",
      "metadata": {
        "id": "PiC8j4H4ChbF"
      },
      "source": [
        "###<font color='green'><b>Calculation of Co-occurrence matrix"
      ]
    },
    {
      "cell_type": "code",
      "execution_count": null,
      "metadata": {
        "collapsed": true,
        "id": "F0yOJVKK4sgM"
      },
      "outputs": [],
      "source": [
        "cooccurrence_matrix = np.zeros((maxFeatures, maxFeatures))"
      ]
    },
    {
      "cell_type": "code",
      "execution_count": null,
      "metadata": {
        "colab": {
          "base_uri": "https://localhost:8080/",
          "height": 34
        },
        "id": "1ZmC4cR15yic",
        "outputId": "ae272014-847a-4f92-e271-19e03b96ff6b"
      },
      "outputs": [
        {
          "name": "stdout",
          "output_type": "stream",
          "text": [
            "(2000, 2000)\n"
          ]
        }
      ],
      "source": [
        "print(cooccurrence_matrix.shape)"
      ]
    },
    {
      "cell_type": "code",
      "execution_count": null,
      "metadata": {
        "collapsed": true,
        "id": "U2ZaBE7755jN"
      },
      "outputs": [],
      "source": [
        "for x in X:\n",
        "  words = x.split()\n",
        "  atleast_two_words = len(set(maxFeatureWords).intersection(words))\n",
        "  if(atleast_two_words >= 2):\n",
        "    for index,word in enumerate(words):\n",
        "      if word in maxFeatureWords:\n",
        "        word_to_check = word\n",
        "        wi_wj = ()\n",
        "        starting_index = max(index - neighbourhood,0)\n",
        "        ending_index = min(index + neighbourhood,(len(words)- 1))\n",
        "        for j in range(starting_index,ending_index + 1):\n",
        "          if words[j] in maxFeatureWords:                        \n",
        "            wi_wj = maxFeatureWords.index(word_to_check), maxFeatureWords.index(words[j])\n",
        "            cooccurrence_matrix[wi_wj[0],wi_wj[1]] += 1\n",
        "  "
      ]
    },
    {
      "cell_type": "code",
      "execution_count": null,
      "metadata": {
        "colab": {
          "base_uri": "https://localhost:8080/",
          "height": 52
        },
        "id": "y0arBDQtChbG",
        "outputId": "c77cd3de-d9e3-43c8-ed4b-c33a71d2957b"
      },
      "outputs": [
        {
          "data": {
            "text/plain": [
              "matrix([[2.529e+03, 0.000e+00, 4.000e+00, ..., 0.000e+00, 1.000e+00,\n",
              "         0.000e+00]])"
            ]
          },
          "execution_count": 51,
          "metadata": {
            "tags": []
          },
          "output_type": "execute_result"
        }
      ],
      "source": [
        "cooccurrence_matrix = np.matrix(cooccurrence_matrix)\n",
        "cooccurrence_matrix[0]"
      ]
    },
    {
      "cell_type": "code",
      "execution_count": null,
      "metadata": {
        "collapsed": true,
        "id": "y44fLYoqmo5h"
      },
      "outputs": [],
      "source": [
        "# import numpy as np\n",
        "# import nltk\n",
        "# from nltk import bigrams\n",
        "# import itertools\n",
        "# import pandas as pd\n",
        "# def generate_co_occurrence_matrix(corpus, maxFeatureWords):\n",
        "#     vocab = set(maxFeatureWords)\n",
        "#     vocab = list(maxFeatureWords)\n",
        "#     vocab_index = {word: i for i, word in enumerate(vocab)}\n",
        " \n",
        "#     # Create bigrams from all words in corpus\n",
        "#     bi_grams = list(bigrams(corpus))\n",
        "#     # Frequency distribution of bigrams ((word1, word2), num_occurrences)\n",
        "#     bigram_freq = nltk.FreqDist(bi_grams).most_common(len(bi_grams))\n",
        "#     # Initialise co-occurrence matrix\n",
        "#     co_occurrence_matrix = np.zeros((len(vocab), len(vocab)))\n",
        " \n",
        "#     # Loop through the bigrams taking the current and previous word,\n",
        "#     # and the number of occurrences of the bigram.\n",
        "#     for bigram in bigram_freq:\n",
        "#         current = bigram[0][1]\n",
        "#         previous = bigram[0][0]\n",
        "#         count = bigram[1]\n",
        "#         pos_current = vocab_index[current]\n",
        "#         pos_previous = vocab_index[previous]\n",
        "#         co_occurrence_matrix[pos_current][pos_previous] += count\n",
        "#     co_occurrence_matrix = np.matrix(co_occurrence_matrix)\n",
        " \n",
        "#     # return the matrix and the index\n",
        "#     return co_occurrence_matrix, vocab_index\n",
        " \n",
        " \n",
        "# # Create one list using many lists\n",
        "# data = list(itertools.chain.from_iterable(X))\n",
        "# matrix, vocab_index = generate_co_occurrence_matrix(data, maxFeatureWords)\n",
        "# data_matrix = pd.DataFrame(matrix, index=vocab_index,\n",
        "#                              columns=vocab_index)\n",
        "# print(data_matrix)"
      ]
    },
    {
      "cell_type": "markdown",
      "metadata": {
        "id": "4kRIoxNBChbJ"
      },
      "source": [
        "###<font color='green'><b>Finding optimal value for number of components (n) to be retained."
      ]
    },
    {
      "cell_type": "code",
      "execution_count": null,
      "metadata": {
        "colab": {
          "base_uri": "https://localhost:8080/",
          "height": 52
        },
        "id": "oeWt8Zj0ChbK",
        "outputId": "d45299fd-d6fd-47bc-afe2-87a84545d022"
      },
      "outputs": [
        {
          "name": "stdout",
          "output_type": "stream",
          "text": [
            "[3.56084910e-01 5.97393139e-02 3.98032710e-02 ... 1.38338075e-07\n",
            " 1.03231166e-07 9.25369185e-08]\n"
          ]
        }
      ],
      "source": [
        "svd = TruncatedSVD(n_components = maxFeatures - 1)\n",
        "svd.fit(cooccurrence_matrix)  \n",
        "print(svd.explained_variance_ratio_)"
      ]
    },
    {
      "cell_type": "code",
      "execution_count": null,
      "metadata": {
        "colab": {
          "base_uri": "https://localhost:8080/",
          "height": 513
        },
        "id": "tFxEUbuE-uCi",
        "outputId": "57bcc048-7ed3-44b4-9865-8889ed659c5b"
      },
      "outputs": [
        {
          "data": {
            "image/png": "[encoded data removed]",
            "text/plain": [
              "<Figure size 1080x576 with 1 Axes>"
            ]
          },
          "metadata": {
            "tags": []
          },
          "output_type": "display_data"
        }
      ],
      "source": [
        "percentage_var_explained = svd.explained_variance_ratio_ / np.sum(svd.explained_variance_ratio_);\n",
        "# cotains the lambda1/sumoflambas, lambda2/sumoflambas, .......\n",
        "cum_var_explained = np.cumsum(percentage_var_explained)\n",
        "#cummalative sum of values eigen lambda1/sumoflambdas, (lambda1+lambda1)/sumoflambdas\n",
        "# Plot the PCA spectrum\n",
        "plt.figure(1, figsize=(15, 8))\n",
        "\n",
        "plt.clf()\n",
        "plt.plot(cum_var_explained, marker='o', markerfacecolor ='blue', \n",
        "         markersize = 3, color='skyblue', linewidth = 1)\n",
        "plt.axis('tight')\n",
        "plt.grid()\n",
        "plt.xlabel('n_components')\n",
        "plt.ylabel('Cummulative explained variance')\n",
        "plt.title(\"n_components Vs Cummulative explained variance\")\n",
        "plt.show()\n"
      ]
    },
    {
      "cell_type": "markdown",
      "metadata": {
        "id": "Lxdh9msBBoFu"
      },
      "source": [
        "<font color='green'><b>Selecting the \"n_components\" as 300 which will closely preserve the 98 % variance"
      ]
    },
    {
      "cell_type": "code",
      "execution_count": null,
      "metadata": {
        "colab": {
          "base_uri": "https://localhost:8080/",
          "height": 52
        },
        "id": "tN86fnCsCvWa",
        "outputId": "40a71dd5-5e15-4476-98b1-3b51168e4ad9"
      },
      "outputs": [
        {
          "data": {
            "text/plain": [
              "TruncatedSVD(algorithm='randomized', n_components=300, n_iter=5,\n",
              "             random_state=None, tol=0.0)"
            ]
          },
          "execution_count": 143,
          "metadata": {
            "tags": []
          },
          "output_type": "execute_result"
        }
      ],
      "source": [
        "svd = TruncatedSVD(n_components = 300)\n",
        "svd.fit(cooccurrence_matrix) "
      ]
    },
    {
      "cell_type": "code",
      "execution_count": null,
      "metadata": {
        "collapsed": true,
        "id": "ee1k9cpQC6Hz"
      },
      "outputs": [],
      "source": [
        "X_hat = svd.transform(cooccurrence_matrix)"
      ]
    },
    {
      "cell_type": "code",
      "execution_count": null,
      "metadata": {
        "colab": {
          "base_uri": "https://localhost:8080/",
          "height": 34
        },
        "id": "N7nJrfnXFX4p",
        "outputId": "014f5bdd-9dea-4d28-9c13-a7f3fe4708df"
      },
      "outputs": [
        {
          "name": "stdout",
          "output_type": "stream",
          "text": [
            "(2000, 300)\n"
          ]
        }
      ],
      "source": [
        "print(X_hat.shape)"
      ]
    },
    {
      "cell_type": "markdown",
      "metadata": {
        "id": "CjqXnEtoChbl"
      },
      "source": [
        "###<font color='green'><b>Applying k-means clustering"
      ]
    },
    {
      "cell_type": "code",
      "execution_count": null,
      "metadata": {
        "collapsed": true,
        "id": "gX4NGnw9GxCb"
      },
      "outputs": [],
      "source": [
        "X_hat_std = np.matrix(std.fit_transform(X_hat))"
      ]
    },
    {
      "cell_type": "code",
      "execution_count": null,
      "metadata": {
        "collapsed": true,
        "id": "Tfpn89DQChbn"
      },
      "outputs": [],
      "source": [
        "inertia = []\n",
        "for k in K:\n",
        "  kmeans = KMeans(n_clusters = k, init = 'k-means++', max_iter = 600).fit(X_hat_std)\n",
        "  inertia.append(kmeans.inertia_)"
      ]
    },
    {
      "cell_type": "code",
      "execution_count": null,
      "metadata": {
        "colab": {
          "base_uri": "https://localhost:8080/",
          "height": 295
        },
        "id": "QNUDdX3mHD6g",
        "outputId": "a7d9ff25-9e0c-44fb-9fac-653cc773568c"
      },
      "outputs": [
        {
          "data": {
            "image/png": "[encoded data removed]",
            "text/plain": [
              "<Figure size 432x288 with 1 Axes>"
            ]
          },
          "metadata": {
            "tags": []
          },
          "output_type": "display_data"
        }
      ],
      "source": [
        "plotGraph(inertia)"
      ]
    },
    {
      "cell_type": "code",
      "execution_count": null,
      "metadata": {
        "collapsed": true,
        "id": "lg0hSz5lJUea"
      },
      "outputs": [],
      "source": [
        "optimal_k = 3"
      ]
    },
    {
      "cell_type": "code",
      "execution_count": null,
      "metadata": {
        "colab": {
          "base_uri": "https://localhost:8080/",
          "height": 34
        },
        "id": "naNpcjbmJW7I",
        "outputId": "17b7a76d-ea4f-4bbc-f3fb-9810d1032711"
      },
      "outputs": [
        {
          "name": "stdout",
          "output_type": "stream",
          "text": [
            "**** Inertia is **** 595990.4778172727\n"
          ]
        }
      ],
      "source": [
        "kmeans = KMeans(n_clusters = optimal_k, init = 'k-means++', max_iter = 600).fit(X_hat_std)\n",
        "print(\"**** Inertia is ****\",kmeans.inertia_)"
      ]
    },
    {
      "cell_type": "code",
      "execution_count": null,
      "metadata": {
        "collapsed": true,
        "id": "hYBTCoyTJlwA"
      },
      "outputs": [],
      "source": [
        "cluster1 = []\n",
        "cluster2 = []\n",
        "cluster3 = []\n"
      ]
    },
    {
      "cell_type": "code",
      "execution_count": null,
      "metadata": {
        "collapsed": true,
        "id": "wlHyA-wNKBnp"
      },
      "outputs": [],
      "source": [
        "for i in range(kmeans.labels_.shape[0]):\n",
        "  if kmeans.labels_[i] == 0:\n",
        "    cluster1.append(maxFeatureWords[i])\n",
        "  elif kmeans.labels_[i] == 1:\n",
        "    cluster2.append(maxFeatureWords[i])\n",
        "  elif kmeans.labels_[i] == 2:\n",
        "    cluster3.append(maxFeatureWords[i])\n",
        "  "
      ]
    },
    {
      "cell_type": "code",
      "execution_count": null,
      "metadata": {
        "colab": {
          "base_uri": "https://localhost:8080/",
          "height": 104
        },
        "id": "AGWOE1oMKSdi",
        "outputId": "d6f1abc1-6059-4635-d879-a6b40f5b4d65"
      },
      "outputs": [
        {
          "name": "stdout",
          "output_type": "stream",
          "text": [
            "No. of reviews in Cluster-1 :  1998\n",
            "\n",
            "No. of reviews in Cluster-2 :  1\n",
            "\n",
            "No. of reviews in Cluster-3 :  1\n"
          ]
        }
      ],
      "source": [
        "print(\"No. of reviews in Cluster-1 : \",len(cluster1))\n",
        "print(\"\\nNo. of reviews in Cluster-2 : \",len(cluster2))\n",
        "print(\"\\nNo. of reviews in Cluster-3 : \",len(cluster3))\n"
      ]
    },
    {
      "cell_type": "markdown",
      "metadata": {
        "id": "U4Gb79QfChbu"
      },
      "source": [
        "###<font color='green'><b>Wordclouds of clusters obtained in the above section"
      ]
    },
    {
      "cell_type": "code",
      "execution_count": null,
      "metadata": {
        "colab": {
          "base_uri": "https://localhost:8080/",
          "height": 1000
        },
        "id": "mEWn4eD7Chbv",
        "outputId": "7c2ec5b3-6e8f-4ef4-85c8-1cf0308a8ec6"
      },
      "outputs": [
        {
          "data": {
            "image/png": "[encoded data removed]",
            "text/plain": [
              "<Figure size 864x576 with 1 Axes>"
            ]
          },
          "metadata": {
            "tags": []
          },
          "output_type": "display_data"
        },
        {
          "data": {
            "image/png": "[encoded data removed]",
            "text/plain": [
              "<Figure size 864x576 with 1 Axes>"
            ]
          },
          "metadata": {
            "tags": []
          },
          "output_type": "display_data"
        },
        {
          "data": {
            "image/png": "[encoded data removed]",
            "text/plain": [
              "<Figure size 864x576 with 1 Axes>"
            ]
          },
          "metadata": {
            "tags": []
          },
          "output_type": "display_data"
        }
      ],
      "source": [
        "for i in range(1,optimal_k + 1):\n",
        "  generate_word_cloud(globals()['cluster{}'.format(i)])"
      ]
    },
    {
      "cell_type": "markdown",
      "metadata": {
        "id": "jXT2kiRgChb0"
      },
      "source": [
        "###<font color='green'><b>Function that returns most similar words for a given word"
      ]
    },
    {
      "cell_type": "code",
      "execution_count": null,
      "metadata": {
        "collapsed": true,
        "id": "IdTy3BRYChb1"
      },
      "outputs": [],
      "source": [
        "def mostSimilarKWords(word, k = 10, cm = X_hat_std, vocabulary = maxFeatureWords):\n",
        "  \"\"\"\n",
        "    This function return the top k most similar\n",
        "    word to the query word\n",
        "    Param : K can be given to the function, a default\n",
        "            value is 10\n",
        "  \"\"\"\n",
        "  row, col = cm.shape;\n",
        "  similarity_accross_features = []\n",
        "  try:\n",
        "    querywordvector = cm[vocabulary.index(word)];\n",
        "    for i in range(row):\n",
        "      similarity_accross_features.append(cosine_similarity(querywordvector, cm[i])[0][0])\n",
        "    delta_sorted = dict(zip(vocabulary, similarity_accross_features))  \n",
        "    delta_sorted = sorted(delta_sorted.items(), key = operator.itemgetter(1), reverse = True)\n",
        "    print(\"\\n\\n ***** Top {} Most similar words ****** \\n\\n\".format(k))\n",
        "    count = 1;\n",
        "    for key,value in delta_sorted:\n",
        "      print(\"{} Most similar word is \\\"{}\\\" to \\\"{}\\\" with similarity value as \\\"{}\\\"\".format(count, key, word, round(value,2)))\n",
        "      count += 1;\n",
        "      if count == k:\n",
        "        break;\n",
        "  except: \n",
        "    print(\"*** Query word doesnt found in Vocabulary ****** \")"
      ]
    },
    {
      "cell_type": "code",
      "execution_count": null,
      "metadata": {
        "colab": {
          "base_uri": "https://localhost:8080/",
          "height": 364
        },
        "id": "7U09XH7hWmoV",
        "outputId": "e7866c31-f160-4219-bc78-e866ffa92ea2"
      },
      "outputs": [
        {
          "name": "stdout",
          "output_type": "stream",
          "text": [
            "\n",
            "    This function return the top k most similar\n",
            "    word to the query word\n",
            "    Param : K can be given to the function, a default\n",
            "            value is 10\n",
            "  \n",
            "\n",
            "\n",
            " ***** Top 10 Most similar words ****** \n",
            "\n",
            "\n",
            "1 Most similar word is \"absolutely\" to \"absolutely\" with similarity value as \"1.0\"\n",
            "2 Most similar word is \"disgusting\" to \"absolutely\" with similarity value as \"0.69\"\n",
            "3 Most similar word is \"horrible\" to \"absolutely\" with similarity value as \"0.6\"\n",
            "4 Most similar word is \"fabulous\" to \"absolutely\" with similarity value as \"0.55\"\n",
            "5 Most similar word is \"fantastic\" to \"absolutely\" with similarity value as \"0.55\"\n",
            "6 Most similar word is \"delightful\" to \"absolutely\" with similarity value as \"0.47\"\n",
            "7 Most similar word is \"amazed\" to \"absolutely\" with similarity value as \"0.35\"\n",
            "8 Most similar word is \"awful\" to \"absolutely\" with similarity value as \"0.35\"\n",
            "9 Most similar word is \"terrible\" to \"absolutely\" with similarity value as \"0.32\"\n"
          ]
        }
      ],
      "source": [
        "print(mostSimilarKWords.__doc__ )\n",
        "mostSimilarKWords('absolutely')"
      ]
    },
    {
      "cell_type": "markdown",
      "metadata": {
        "id": "jRkMCPCyChb6"
      },
      "source": [
        "##<font color='green'><b>Conclusions\n"
      ]
    },
    {
      "cell_type": "markdown",
      "metadata": {
        "id": "v3qxfHBLmwKY"
      },
      "source": [
        "\n",
        "\n",
        "1.   We Selecting the \"n_components \" as 300 which will closely preserve the 98 % variance \n",
        "2. We select the '2' as the context length in the words.\n",
        "2.   We got optimal clusters as 4. However, the curve we got is like line structure.\n",
        "\n"
      ]
    }
  ],
  "metadata": {
    "colab": {
      "collapsed_sections": [
        "3pg73rLEChYa",
        "PiC8j4H4ChbF",
        "4kRIoxNBChbJ",
        "CjqXnEtoChbl",
        "U4Gb79QfChbu",
        "jXT2kiRgChb0"
      ],
      "name": "SVD.ipynb",
      "provenance": [],
      "include_colab_link": true
    },
    "kernelspec": {
      "display_name": "Python 3",
      "language": "python",
      "name": "python3"
    },
    "language_info": {
      "codemirror_mode": {
        "name": "ipython",
        "version": 3
      },
      "file_extension": ".py",
      "mimetype": "text/x-python",
      "name": "python",
      "nbconvert_exporter": "python",
      "pygments_lexer": "ipython3",
      "version": "3.6.3"
    }
  },
  "nbformat": 4,
  "nbformat_minor": 0
}